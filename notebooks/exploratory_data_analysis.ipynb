{
 "cells": [
  {
   "cell_type": "markdown",
   "metadata": {},
   "source": [
    "# Exploratory Data Analysis\n",
    "\n",
    "This notebook explores the provided data sets.\n",
    "\n",
    "### Overall Goals of this Analysis\n",
    "\n",
    "We ultimately want to understand:\n",
    "\n",
    "G1.  The state of labour market inactivity. Possible lenses to analyse this include: cross-country comparisons, breakdowns by demographic.\n",
    "\n",
    "G2. Where Nesta can focus its efforts. This can be by identifying the key cross-sectional attributes that influnce economic inactivity.\n"
   ]
  },
  {
   "cell_type": "markdown",
   "metadata": {},
   "source": [
    "## 0. Load the data provided\n",
    "\n",
    "We have four files, with the first three pertaining to Labour Force Survey (LFS) data:\n",
    "1. `variable_names.csv` - A list of the variables included in the lfs quarterly and monthly data sets \n",
    "2. `lfs_monthly_variables.csv` - Main labour market indicators collected through the UK labour force survey including data relating to international comparisons, and reasons for inactivity across demographic groups.\n",
    "3. `lfs_quarterly_variables.csv` - Same as above. I assume this is the same data just aggregated to quarterly frequency. Verify this, and if so, use the monthly data for better granularity.\n",
    "4. `qual_survey_responses.csv` - Independent survey responses from 100 participants across the UK to the question “What do you think the government should be doing to address economic  inactivity (unemployment)”\n",
    "\n",
    "\n",
    "### Plan\n",
    "First, we will analyse the `variable_names` to understand the available fields and identify which may be useful in understanding the state of labour market inactivity. \n",
    "We will group these into:\n",
    "\n",
    "- (A) Fields that can help us understand international comparisons, i.e. the UK's employment rate relative to other countries;\n",
    "- (B) Fields that can give cross-sectional breakdowns of inactivity by demographic within the UK, e.g. sex, age, region, educational attainment, ethnicity, disability.\n",
    "\n",
    "Secondly, analyse the shortlisted fields in `lfs_monthly_variables` and note interesting findings relevant to the goals of this notebook.\n",
    "\n",
    "Thirdly, confirm that `lfs_quarterly_variables` is simply an aggregated view of the monthly data. If so, we can ignore this.\n",
    "\n",
    "Lastly, the qualitative survey data in `qual_survey_responses` is less likely to be relevant for the current task, but we will explore the data to see if there are any immediate takeaways."
   ]
  },
  {
   "cell_type": "code",
   "execution_count": 1,
   "metadata": {},
   "outputs": [],
   "source": [
    "from pathlib import Path\n",
    "\n",
    "from matplotlib import pyplot as plt\n",
    "import pandas as pd\n",
    "import plotly\n",
    "import plotly.express as px"
   ]
  },
  {
   "cell_type": "code",
   "execution_count": 2,
   "metadata": {},
   "outputs": [
    {
     "name": "stdout",
     "output_type": "stream",
     "text": [
      "[PosixPath('/Users/gurpreetjohl/workspace/python/growingeconomy/data/lfs_quarterly_variables.csv'), PosixPath('/Users/gurpreetjohl/workspace/python/growingeconomy/data/lfs_monthly_variables.csv'), PosixPath('/Users/gurpreetjohl/workspace/python/growingeconomy/data/qual_survey_responses.csv'), PosixPath('/Users/gurpreetjohl/workspace/python/growingeconomy/data/variable_names.csv')]\n"
     ]
    }
   ],
   "source": [
    "DATA_DIR = Path.cwd().parent / 'data'\n",
    "DATA_FILEPATHS = list(DATA_DIR.glob('*'))\n",
    "\n",
    "print(DATA_FILEPATHS)"
   ]
  },
  {
   "cell_type": "markdown",
   "metadata": {},
   "source": [
    "## 1. Variable Names\n",
    "\n",
    "Identify relevant fields of the LFS monthly data for further analysis.\n",
    "\n",
    "\n",
    "### Glossary of relevant terms\n",
    "- LFS: Labour Force Survey\n",
    "- AWE: Average weekly Earnings\n",
    "- ASHE: Annual Survey of Hours and Earnings\n",
    "- ILO: International Labour Organization"
   ]
  },
  {
   "cell_type": "code",
   "execution_count": 3,
   "metadata": {},
   "outputs": [
    {
     "data": {
      "text/html": [
       "<div>\n",
       "<style scoped>\n",
       "    .dataframe tbody tr th:only-of-type {\n",
       "        vertical-align: middle;\n",
       "    }\n",
       "\n",
       "    .dataframe tbody tr th {\n",
       "        vertical-align: top;\n",
       "    }\n",
       "\n",
       "    .dataframe thead th {\n",
       "        text-align: right;\n",
       "    }\n",
       "</style>\n",
       "<table border=\"1\" class=\"dataframe\">\n",
       "  <thead>\n",
       "    <tr style=\"text-align: right;\">\n",
       "      <th></th>\n",
       "      <th>Title</th>\n",
       "    </tr>\n",
       "  </thead>\n",
       "  <tbody>\n",
       "    <tr>\n",
       "      <th>0</th>\n",
       "      <td>AWE: Whole Economy Real Terms Year on Year Sin...</td>\n",
       "    </tr>\n",
       "    <tr>\n",
       "      <th>1</th>\n",
       "      <td>AWE: Whole Economy Real Terms Year on Year thr...</td>\n",
       "    </tr>\n",
       "    <tr>\n",
       "      <th>2</th>\n",
       "      <td>AWE: Whole Economy Real Terms Level (£): Seaso...</td>\n",
       "    </tr>\n",
       "    <tr>\n",
       "      <th>3</th>\n",
       "      <td>AWE: Whole Economy Real Terms Year on Year Sin...</td>\n",
       "    </tr>\n",
       "    <tr>\n",
       "      <th>4</th>\n",
       "      <td>AWE: Whole Economy Real Terms Year on Year Thr...</td>\n",
       "    </tr>\n",
       "    <tr>\n",
       "      <th>...</th>\n",
       "      <td>...</td>\n",
       "    </tr>\n",
       "    <tr>\n",
       "      <th>1825</th>\n",
       "      <td>STANDARDISED ILO UNEMPLOYMENT RATES SEASONALLY...</td>\n",
       "    </tr>\n",
       "    <tr>\n",
       "      <th>1826</th>\n",
       "      <td>STANDARDISED ILO UNEMPLOYMENT RATES SEASONALLY...</td>\n",
       "    </tr>\n",
       "    <tr>\n",
       "      <th>1827</th>\n",
       "      <td>STANDARDISED ILO UNEMPLOYMENT RATES SEASONALLY...</td>\n",
       "    </tr>\n",
       "    <tr>\n",
       "      <th>1828</th>\n",
       "      <td>STANDARDISED ILO UNEMPLOYMENT RATES SEASONALLY...</td>\n",
       "    </tr>\n",
       "    <tr>\n",
       "      <th>1829</th>\n",
       "      <td>STANDARDISED ILO UNEMPLOYMENT RATES SEASONALLY...</td>\n",
       "    </tr>\n",
       "  </tbody>\n",
       "</table>\n",
       "<p>1830 rows × 1 columns</p>\n",
       "</div>"
      ],
      "text/plain": [
       "                                                  Title\n",
       "0     AWE: Whole Economy Real Terms Year on Year Sin...\n",
       "1     AWE: Whole Economy Real Terms Year on Year thr...\n",
       "2     AWE: Whole Economy Real Terms Level (£): Seaso...\n",
       "3     AWE: Whole Economy Real Terms Year on Year Sin...\n",
       "4     AWE: Whole Economy Real Terms Year on Year Thr...\n",
       "...                                                 ...\n",
       "1825  STANDARDISED ILO UNEMPLOYMENT RATES SEASONALLY...\n",
       "1826  STANDARDISED ILO UNEMPLOYMENT RATES SEASONALLY...\n",
       "1827  STANDARDISED ILO UNEMPLOYMENT RATES SEASONALLY...\n",
       "1828  STANDARDISED ILO UNEMPLOYMENT RATES SEASONALLY...\n",
       "1829  STANDARDISED ILO UNEMPLOYMENT RATES SEASONALLY...\n",
       "\n",
       "[1830 rows x 1 columns]"
      ]
     },
     "execution_count": 3,
     "metadata": {},
     "output_type": "execute_result"
    }
   ],
   "source": [
    "var_df = pd.read_csv(str(DATA_FILEPATHS[3]), encoding=\"ISO-8859-1\")\n",
    "var_df"
   ]
  },
  {
   "cell_type": "markdown",
   "metadata": {},
   "source": [
    "There are a lot of fields... There are many with similar names which suggests they will be useful for comparisons of different countries or demographics. \n",
    "\n",
    "Group these together by stemming the field names to the first few words."
   ]
  },
  {
   "cell_type": "code",
   "execution_count": 37,
   "metadata": {},
   "outputs": [],
   "source": [
    "def preprocess_field_name(field_name: str) -> str:\n",
    "    \"\"\"Some of the field names have naming inconsistencies, so preprocess these for consistency\"\"\"\n",
    "    return (\n",
    "        field_name\n",
    "        .lower()  # Some fields are sentence case, others are upper case. Cast all to lower case\n",
    "        .replace(':', '')\n",
    "        .replace('.', '')\n",
    "        .replace(\"economically\", \"econ\")  # Some fields abbreviate economially whereas others don't\n",
    "        .replace(\"economic\", \"econ\")  # Some fields abbreviate economic whereas others don't\n",
    "        .replace(\"inactivity\", \"inact\", )  # Some fields abbreviate inactivity whereas others don't\n",
    "        .replace(\"education\", \"educ\")  # Some fields abbreviate education whereas others don't\n",
    "    )"
   ]
  },
  {
   "cell_type": "code",
   "execution_count": 38,
   "metadata": {},
   "outputs": [
    {
     "data": {
      "text/plain": [
       "0       awe whole economy real terms year on year sing...\n",
       "1       awe whole economy real terms year on year thre...\n",
       "2       awe whole economy real terms level (£) seasona...\n",
       "3       awe whole economy real terms year on year sing...\n",
       "4       awe whole economy real terms year on year thre...\n",
       "                              ...                        \n",
       "1825    standardised ilo unemployment rates seasonally...\n",
       "1826    standardised ilo unemployment rates seasonally...\n",
       "1827    standardised ilo unemployment rates seasonally...\n",
       "1828    standardised ilo unemployment rates seasonally...\n",
       "1829    standardised ilo unemployment rates seasonally...\n",
       "Name: Title, Length: 1830, dtype: object"
      ]
     },
     "execution_count": 38,
     "metadata": {},
     "output_type": "execute_result"
    }
   ],
   "source": [
    "var_df['Title'].apply(lambda s: preprocess_field_name(s))"
   ]
  },
  {
   "cell_type": "code",
   "execution_count": 39,
   "metadata": {},
   "outputs": [],
   "source": [
    "# Stem to the first N words\n",
    "N_WORDS = 3\n",
    "stemmed_title = (var_df['Title']\n",
    "                 .apply(lambda s: preprocess_field_name(s))\n",
    "                 .str.split(' ')\n",
    "                 .str[:N_WORDS]\n",
    "                 .str.join(' '))\n",
    "\n",
    "# Alternatively, stem by character count\n",
    "# stemmed_title = var_df['Title'].str[:20]"
   ]
  },
  {
   "cell_type": "code",
   "execution_count": 41,
   "metadata": {},
   "outputs": [
    {
     "data": {
      "application/vnd.plotly.v1+json": {
       "config": {
        "plotlyServerURL": "https://plot.ly"
       },
       "data": [
        {
         "alignmentgroup": "True",
         "hovertemplate": "variable=count<br>Title=%{x}<br>value=%{y}<extra></extra>",
         "legendgroup": "count",
         "marker": {
          "color": "#636efa",
          "pattern": {
           "shape": ""
          }
         },
         "name": "count",
         "offsetgroup": "count",
         "orientation": "v",
         "showlegend": true,
         "textposition": "auto",
         "type": "bar",
         "x": [
          "\"lfs in employment",
          "16-17 year old",
          "16-24 year old",
          "18-24 year old",
          "australia & new",
          "average actual weekly",
          "awe construction level",
          "awe construction year",
          "awe distribution, hotels",
          "awe finance and",
          "awe manufacturing level",
          "awe manufacturing year",
          "awe private sector",
          "awe public sector",
          "awe services level",
          "awe services year",
          "awe whole economy",
          "discouraged workers level",
          "east - 16-64",
          "east - working",
          "east midlands -",
          "econ active level",
          "econ active rate",
          "econ inactive does",
          "econ inactive level",
          "econ inactive rate",
          "econ inactive ratetotal",
          "econ inactive student",
          "econ inactive total",
          "econ inactive wants",
          "employment level 65",
          "employment levels by",
          "employment rate (aged",
          "employment rate 65",
          "employment rate canada",
          "employment rate japan",
          "employment rate united",
          "employment rates by",
          "england - 16-64",
          "england - working",
          "eu 14 employment",
          "eu a8 employment",
          "female employment rate",
          "female unemployment rate",
          "gb workforce jobs",
          "ilo unemployment rate",
          "inactive does not",
          "inactive wants a",
          "india employment rate",
          "international comparison -",
          "international comparison employment",
          "internatioonal comparison employment",
          "labour disputes; number",
          "labour disputes; working",
          "lfs avg actual",
          "lfs econ active",
          "lfs econ activity",
          "lfs econ inact",
          "lfs econ inactive",
          "lfs employees cat",
          "lfs employees full-time",
          "lfs employees isic",
          "lfs employees part-time",
          "lfs employees total",
          "lfs employees uk",
          "lfs employment cat",
          "lfs employment level",
          "lfs employment quarterly",
          "lfs employment rate",
          "lfs employment service",
          "lfs employment total",
          "lfs employment uk",
          "lfs experimental econ",
          "lfs experimental employment",
          "lfs experimental ilo",
          "lfs experimental in",
          "lfs government supported",
          "lfs ilo redundancy",
          "lfs ilo unemployed",
          "lfs ilo unemployment",
          "lfs in employment",
          "lfs part-time workers",
          "lfs population aged",
          "lfs population uk",
          "lfs self-employed full-time",
          "lfs self-employed part-time",
          "lfs self-employed uk",
          "lfs temporary employees",
          "lfs total actual",
          "lfs unemployed aged",
          "lfs unemployed over",
          "lfs unemployed uk",
          "lfs unemployed up",
          "lfs unemployment rate",
          "lfs unpaid family",
          "lfs usual weekly",
          "lfs workers with",
          "lfsecon inact wants",
          "lm structure ukfemaleecon",
          "london - 16-64",
          "london - working",
          "male employment rate",
          "male unemployment rate",
          "non-uk employment rate",
          "north east -",
          "north west -",
          "northern ireland -",
          "number of men",
          "number of people",
          "number of unemployed",
          "number of women",
          "pakistan & bangladesh",
          "private sector employment",
          "public sector employment",
          "romania and bulgaria",
          "scotland - 16-64",
          "scotland - working",
          "south africa employment",
          "south east -",
          "south west -",
          "standardised ilo unemployment",
          "total employment (lfs);",
          "total eu(eu27) employment",
          "total non-eu employment",
          "uk employee jobs",
          "uk employment rate",
          "uk government-supported trainees",
          "uk hm forces",
          "uk job vacancies",
          "uk self-employment jobs",
          "uk vacancies (thousands)",
          "uk vacancies by",
          "uk workforce jobs",
          "unemployment level by",
          "unemployment rate (aged",
          "unemployment rate by",
          "united kingdom employment",
          "usa employment rate",
          "wales - 16-64",
          "wales - working",
          "west midlands -",
          "workforce jobs sa",
          "yorkshire & the"
         ],
         "xaxis": "x",
         "y": [
          15,
          9,
          9,
          9,
          2,
          2,
          3,
          6,
          9,
          9,
          3,
          6,
          9,
          18,
          3,
          6,
          15,
          2,
          2,
          1,
          3,
          2,
          2,
          3,
          2,
          2,
          1,
          8,
          16,
          3,
          2,
          36,
          1,
          2,
          1,
          1,
          1,
          12,
          2,
          1,
          2,
          2,
          1,
          1,
          1,
          1,
          2,
          2,
          2,
          1,
          26,
          2,
          4,
          3,
          10,
          73,
          62,
          214,
          94,
          21,
          3,
          1,
          3,
          3,
          6,
          20,
          1,
          1,
          93,
          1,
          3,
          27,
          12,
          6,
          12,
          6,
          6,
          6,
          73,
          68,
          135,
          18,
          20,
          18,
          3,
          3,
          6,
          21,
          3,
          18,
          70,
          35,
          19,
          37,
          6,
          90,
          3,
          1,
          1,
          2,
          1,
          1,
          1,
          2,
          3,
          3,
          6,
          1,
          1,
          3,
          1,
          2,
          4,
          13,
          2,
          2,
          1,
          2,
          3,
          3,
          32,
          1,
          2,
          2,
          1,
          2,
          1,
          1,
          39,
          1,
          1,
          5,
          22,
          8,
          1,
          8,
          1,
          2,
          2,
          1,
          3,
          13,
          3
         ],
         "yaxis": "y"
        }
       ],
       "layout": {
        "barmode": "relative",
        "legend": {
         "title": {
          "text": "variable"
         },
         "tracegroupgap": 0
        },
        "margin": {
         "t": 60
        },
        "template": {
         "data": {
          "bar": [
           {
            "error_x": {
             "color": "#2a3f5f"
            },
            "error_y": {
             "color": "#2a3f5f"
            },
            "marker": {
             "line": {
              "color": "#E5ECF6",
              "width": 0.5
             },
             "pattern": {
              "fillmode": "overlay",
              "size": 10,
              "solidity": 0.2
             }
            },
            "type": "bar"
           }
          ],
          "barpolar": [
           {
            "marker": {
             "line": {
              "color": "#E5ECF6",
              "width": 0.5
             },
             "pattern": {
              "fillmode": "overlay",
              "size": 10,
              "solidity": 0.2
             }
            },
            "type": "barpolar"
           }
          ],
          "carpet": [
           {
            "aaxis": {
             "endlinecolor": "#2a3f5f",
             "gridcolor": "white",
             "linecolor": "white",
             "minorgridcolor": "white",
             "startlinecolor": "#2a3f5f"
            },
            "baxis": {
             "endlinecolor": "#2a3f5f",
             "gridcolor": "white",
             "linecolor": "white",
             "minorgridcolor": "white",
             "startlinecolor": "#2a3f5f"
            },
            "type": "carpet"
           }
          ],
          "choropleth": [
           {
            "colorbar": {
             "outlinewidth": 0,
             "ticks": ""
            },
            "type": "choropleth"
           }
          ],
          "contour": [
           {
            "colorbar": {
             "outlinewidth": 0,
             "ticks": ""
            },
            "colorscale": [
             [
              0,
              "#0d0887"
             ],
             [
              0.1111111111111111,
              "#46039f"
             ],
             [
              0.2222222222222222,
              "#7201a8"
             ],
             [
              0.3333333333333333,
              "#9c179e"
             ],
             [
              0.4444444444444444,
              "#bd3786"
             ],
             [
              0.5555555555555556,
              "#d8576b"
             ],
             [
              0.6666666666666666,
              "#ed7953"
             ],
             [
              0.7777777777777778,
              "#fb9f3a"
             ],
             [
              0.8888888888888888,
              "#fdca26"
             ],
             [
              1,
              "#f0f921"
             ]
            ],
            "type": "contour"
           }
          ],
          "contourcarpet": [
           {
            "colorbar": {
             "outlinewidth": 0,
             "ticks": ""
            },
            "type": "contourcarpet"
           }
          ],
          "heatmap": [
           {
            "colorbar": {
             "outlinewidth": 0,
             "ticks": ""
            },
            "colorscale": [
             [
              0,
              "#0d0887"
             ],
             [
              0.1111111111111111,
              "#46039f"
             ],
             [
              0.2222222222222222,
              "#7201a8"
             ],
             [
              0.3333333333333333,
              "#9c179e"
             ],
             [
              0.4444444444444444,
              "#bd3786"
             ],
             [
              0.5555555555555556,
              "#d8576b"
             ],
             [
              0.6666666666666666,
              "#ed7953"
             ],
             [
              0.7777777777777778,
              "#fb9f3a"
             ],
             [
              0.8888888888888888,
              "#fdca26"
             ],
             [
              1,
              "#f0f921"
             ]
            ],
            "type": "heatmap"
           }
          ],
          "heatmapgl": [
           {
            "colorbar": {
             "outlinewidth": 0,
             "ticks": ""
            },
            "colorscale": [
             [
              0,
              "#0d0887"
             ],
             [
              0.1111111111111111,
              "#46039f"
             ],
             [
              0.2222222222222222,
              "#7201a8"
             ],
             [
              0.3333333333333333,
              "#9c179e"
             ],
             [
              0.4444444444444444,
              "#bd3786"
             ],
             [
              0.5555555555555556,
              "#d8576b"
             ],
             [
              0.6666666666666666,
              "#ed7953"
             ],
             [
              0.7777777777777778,
              "#fb9f3a"
             ],
             [
              0.8888888888888888,
              "#fdca26"
             ],
             [
              1,
              "#f0f921"
             ]
            ],
            "type": "heatmapgl"
           }
          ],
          "histogram": [
           {
            "marker": {
             "pattern": {
              "fillmode": "overlay",
              "size": 10,
              "solidity": 0.2
             }
            },
            "type": "histogram"
           }
          ],
          "histogram2d": [
           {
            "colorbar": {
             "outlinewidth": 0,
             "ticks": ""
            },
            "colorscale": [
             [
              0,
              "#0d0887"
             ],
             [
              0.1111111111111111,
              "#46039f"
             ],
             [
              0.2222222222222222,
              "#7201a8"
             ],
             [
              0.3333333333333333,
              "#9c179e"
             ],
             [
              0.4444444444444444,
              "#bd3786"
             ],
             [
              0.5555555555555556,
              "#d8576b"
             ],
             [
              0.6666666666666666,
              "#ed7953"
             ],
             [
              0.7777777777777778,
              "#fb9f3a"
             ],
             [
              0.8888888888888888,
              "#fdca26"
             ],
             [
              1,
              "#f0f921"
             ]
            ],
            "type": "histogram2d"
           }
          ],
          "histogram2dcontour": [
           {
            "colorbar": {
             "outlinewidth": 0,
             "ticks": ""
            },
            "colorscale": [
             [
              0,
              "#0d0887"
             ],
             [
              0.1111111111111111,
              "#46039f"
             ],
             [
              0.2222222222222222,
              "#7201a8"
             ],
             [
              0.3333333333333333,
              "#9c179e"
             ],
             [
              0.4444444444444444,
              "#bd3786"
             ],
             [
              0.5555555555555556,
              "#d8576b"
             ],
             [
              0.6666666666666666,
              "#ed7953"
             ],
             [
              0.7777777777777778,
              "#fb9f3a"
             ],
             [
              0.8888888888888888,
              "#fdca26"
             ],
             [
              1,
              "#f0f921"
             ]
            ],
            "type": "histogram2dcontour"
           }
          ],
          "mesh3d": [
           {
            "colorbar": {
             "outlinewidth": 0,
             "ticks": ""
            },
            "type": "mesh3d"
           }
          ],
          "parcoords": [
           {
            "line": {
             "colorbar": {
              "outlinewidth": 0,
              "ticks": ""
             }
            },
            "type": "parcoords"
           }
          ],
          "pie": [
           {
            "automargin": true,
            "type": "pie"
           }
          ],
          "scatter": [
           {
            "fillpattern": {
             "fillmode": "overlay",
             "size": 10,
             "solidity": 0.2
            },
            "type": "scatter"
           }
          ],
          "scatter3d": [
           {
            "line": {
             "colorbar": {
              "outlinewidth": 0,
              "ticks": ""
             }
            },
            "marker": {
             "colorbar": {
              "outlinewidth": 0,
              "ticks": ""
             }
            },
            "type": "scatter3d"
           }
          ],
          "scattercarpet": [
           {
            "marker": {
             "colorbar": {
              "outlinewidth": 0,
              "ticks": ""
             }
            },
            "type": "scattercarpet"
           }
          ],
          "scattergeo": [
           {
            "marker": {
             "colorbar": {
              "outlinewidth": 0,
              "ticks": ""
             }
            },
            "type": "scattergeo"
           }
          ],
          "scattergl": [
           {
            "marker": {
             "colorbar": {
              "outlinewidth": 0,
              "ticks": ""
             }
            },
            "type": "scattergl"
           }
          ],
          "scattermapbox": [
           {
            "marker": {
             "colorbar": {
              "outlinewidth": 0,
              "ticks": ""
             }
            },
            "type": "scattermapbox"
           }
          ],
          "scatterpolar": [
           {
            "marker": {
             "colorbar": {
              "outlinewidth": 0,
              "ticks": ""
             }
            },
            "type": "scatterpolar"
           }
          ],
          "scatterpolargl": [
           {
            "marker": {
             "colorbar": {
              "outlinewidth": 0,
              "ticks": ""
             }
            },
            "type": "scatterpolargl"
           }
          ],
          "scatterternary": [
           {
            "marker": {
             "colorbar": {
              "outlinewidth": 0,
              "ticks": ""
             }
            },
            "type": "scatterternary"
           }
          ],
          "surface": [
           {
            "colorbar": {
             "outlinewidth": 0,
             "ticks": ""
            },
            "colorscale": [
             [
              0,
              "#0d0887"
             ],
             [
              0.1111111111111111,
              "#46039f"
             ],
             [
              0.2222222222222222,
              "#7201a8"
             ],
             [
              0.3333333333333333,
              "#9c179e"
             ],
             [
              0.4444444444444444,
              "#bd3786"
             ],
             [
              0.5555555555555556,
              "#d8576b"
             ],
             [
              0.6666666666666666,
              "#ed7953"
             ],
             [
              0.7777777777777778,
              "#fb9f3a"
             ],
             [
              0.8888888888888888,
              "#fdca26"
             ],
             [
              1,
              "#f0f921"
             ]
            ],
            "type": "surface"
           }
          ],
          "table": [
           {
            "cells": {
             "fill": {
              "color": "#EBF0F8"
             },
             "line": {
              "color": "white"
             }
            },
            "header": {
             "fill": {
              "color": "#C8D4E3"
             },
             "line": {
              "color": "white"
             }
            },
            "type": "table"
           }
          ]
         },
         "layout": {
          "annotationdefaults": {
           "arrowcolor": "#2a3f5f",
           "arrowhead": 0,
           "arrowwidth": 1
          },
          "autotypenumbers": "strict",
          "coloraxis": {
           "colorbar": {
            "outlinewidth": 0,
            "ticks": ""
           }
          },
          "colorscale": {
           "diverging": [
            [
             0,
             "#8e0152"
            ],
            [
             0.1,
             "#c51b7d"
            ],
            [
             0.2,
             "#de77ae"
            ],
            [
             0.3,
             "#f1b6da"
            ],
            [
             0.4,
             "#fde0ef"
            ],
            [
             0.5,
             "#f7f7f7"
            ],
            [
             0.6,
             "#e6f5d0"
            ],
            [
             0.7,
             "#b8e186"
            ],
            [
             0.8,
             "#7fbc41"
            ],
            [
             0.9,
             "#4d9221"
            ],
            [
             1,
             "#276419"
            ]
           ],
           "sequential": [
            [
             0,
             "#0d0887"
            ],
            [
             0.1111111111111111,
             "#46039f"
            ],
            [
             0.2222222222222222,
             "#7201a8"
            ],
            [
             0.3333333333333333,
             "#9c179e"
            ],
            [
             0.4444444444444444,
             "#bd3786"
            ],
            [
             0.5555555555555556,
             "#d8576b"
            ],
            [
             0.6666666666666666,
             "#ed7953"
            ],
            [
             0.7777777777777778,
             "#fb9f3a"
            ],
            [
             0.8888888888888888,
             "#fdca26"
            ],
            [
             1,
             "#f0f921"
            ]
           ],
           "sequentialminus": [
            [
             0,
             "#0d0887"
            ],
            [
             0.1111111111111111,
             "#46039f"
            ],
            [
             0.2222222222222222,
             "#7201a8"
            ],
            [
             0.3333333333333333,
             "#9c179e"
            ],
            [
             0.4444444444444444,
             "#bd3786"
            ],
            [
             0.5555555555555556,
             "#d8576b"
            ],
            [
             0.6666666666666666,
             "#ed7953"
            ],
            [
             0.7777777777777778,
             "#fb9f3a"
            ],
            [
             0.8888888888888888,
             "#fdca26"
            ],
            [
             1,
             "#f0f921"
            ]
           ]
          },
          "colorway": [
           "#636efa",
           "#EF553B",
           "#00cc96",
           "#ab63fa",
           "#FFA15A",
           "#19d3f3",
           "#FF6692",
           "#B6E880",
           "#FF97FF",
           "#FECB52"
          ],
          "font": {
           "color": "#2a3f5f"
          },
          "geo": {
           "bgcolor": "white",
           "lakecolor": "white",
           "landcolor": "#E5ECF6",
           "showlakes": true,
           "showland": true,
           "subunitcolor": "white"
          },
          "hoverlabel": {
           "align": "left"
          },
          "hovermode": "closest",
          "mapbox": {
           "style": "light"
          },
          "paper_bgcolor": "white",
          "plot_bgcolor": "#E5ECF6",
          "polar": {
           "angularaxis": {
            "gridcolor": "white",
            "linecolor": "white",
            "ticks": ""
           },
           "bgcolor": "#E5ECF6",
           "radialaxis": {
            "gridcolor": "white",
            "linecolor": "white",
            "ticks": ""
           }
          },
          "scene": {
           "xaxis": {
            "backgroundcolor": "#E5ECF6",
            "gridcolor": "white",
            "gridwidth": 2,
            "linecolor": "white",
            "showbackground": true,
            "ticks": "",
            "zerolinecolor": "white"
           },
           "yaxis": {
            "backgroundcolor": "#E5ECF6",
            "gridcolor": "white",
            "gridwidth": 2,
            "linecolor": "white",
            "showbackground": true,
            "ticks": "",
            "zerolinecolor": "white"
           },
           "zaxis": {
            "backgroundcolor": "#E5ECF6",
            "gridcolor": "white",
            "gridwidth": 2,
            "linecolor": "white",
            "showbackground": true,
            "ticks": "",
            "zerolinecolor": "white"
           }
          },
          "shapedefaults": {
           "line": {
            "color": "#2a3f5f"
           }
          },
          "ternary": {
           "aaxis": {
            "gridcolor": "white",
            "linecolor": "white",
            "ticks": ""
           },
           "baxis": {
            "gridcolor": "white",
            "linecolor": "white",
            "ticks": ""
           },
           "bgcolor": "#E5ECF6",
           "caxis": {
            "gridcolor": "white",
            "linecolor": "white",
            "ticks": ""
           }
          },
          "title": {
           "x": 0.05
          },
          "xaxis": {
           "automargin": true,
           "gridcolor": "white",
           "linecolor": "white",
           "ticks": "",
           "title": {
            "standoff": 15
           },
           "zerolinecolor": "white",
           "zerolinewidth": 2
          },
          "yaxis": {
           "automargin": true,
           "gridcolor": "white",
           "linecolor": "white",
           "ticks": "",
           "title": {
            "standoff": 15
           },
           "zerolinecolor": "white",
           "zerolinewidth": 2
          }
         }
        },
        "xaxis": {
         "anchor": "y",
         "domain": [
          0,
          1
         ],
         "title": {
          "text": "Title"
         }
        },
        "yaxis": {
         "anchor": "x",
         "domain": [
          0,
          1
         ],
         "title": {
          "text": "value"
         }
        }
       }
      }
     },
     "metadata": {},
     "output_type": "display_data"
    }
   ],
   "source": [
    "px.bar(stemmed_title.value_counts().sort_index())"
   ]
  },
  {
   "cell_type": "code",
   "execution_count": 11,
   "metadata": {},
   "outputs": [],
   "source": [
    "pd.options.display.max_rows = 100"
   ]
  },
  {
   "cell_type": "code",
   "execution_count": 42,
   "metadata": {},
   "outputs": [
    {
     "data": {
      "text/html": [
       "<div>\n",
       "<style scoped>\n",
       "    .dataframe tbody tr th:only-of-type {\n",
       "        vertical-align: middle;\n",
       "    }\n",
       "\n",
       "    .dataframe tbody tr th {\n",
       "        vertical-align: top;\n",
       "    }\n",
       "\n",
       "    .dataframe thead th {\n",
       "        text-align: right;\n",
       "    }\n",
       "</style>\n",
       "<table border=\"1\" class=\"dataframe\">\n",
       "  <thead>\n",
       "    <tr style=\"text-align: right;\">\n",
       "      <th></th>\n",
       "      <th>Title</th>\n",
       "    </tr>\n",
       "  </thead>\n",
       "  <tbody>\n",
       "    <tr>\n",
       "      <th>71</th>\n",
       "      <td>LFS: Econ. inactive: Aged 16-17: Not in full-t...</td>\n",
       "    </tr>\n",
       "    <tr>\n",
       "      <th>72</th>\n",
       "      <td>LFS: Econ. inactive: Aged 18-24: Not in full-t...</td>\n",
       "    </tr>\n",
       "    <tr>\n",
       "      <th>73</th>\n",
       "      <td>LFS: Econ. inactive: Aged 16-24: Not in full-t...</td>\n",
       "    </tr>\n",
       "    <tr>\n",
       "      <th>74</th>\n",
       "      <td>LFS: Econ. inactive: Aged 16-17: Not in full-t...</td>\n",
       "    </tr>\n",
       "    <tr>\n",
       "      <th>75</th>\n",
       "      <td>LFS: Econ. inactive: Aged 18-24: Not in full-t...</td>\n",
       "    </tr>\n",
       "    <tr>\n",
       "      <th>76</th>\n",
       "      <td>LFS: Econ. inactive: Aged 16-24: Not in full-t...</td>\n",
       "    </tr>\n",
       "    <tr>\n",
       "      <th>77</th>\n",
       "      <td>LFS: Econ. inactive: Aged 16-17: Not in full-t...</td>\n",
       "    </tr>\n",
       "    <tr>\n",
       "      <th>78</th>\n",
       "      <td>LFS: Econ. inactive: Aged 18-24: Not in full-t...</td>\n",
       "    </tr>\n",
       "    <tr>\n",
       "      <th>79</th>\n",
       "      <td>LFS: Econ. inactive: Aged 16-24: Not in full-t...</td>\n",
       "    </tr>\n",
       "    <tr>\n",
       "      <th>80</th>\n",
       "      <td>LFS: Econ. inactive: Aged 16-17: In full-time ...</td>\n",
       "    </tr>\n",
       "    <tr>\n",
       "      <th>81</th>\n",
       "      <td>LFS: Econ. inactive: Aged 18-24: In full-time ...</td>\n",
       "    </tr>\n",
       "    <tr>\n",
       "      <th>82</th>\n",
       "      <td>LFS: Econ. inactive: Aged 16-24: In full-time ...</td>\n",
       "    </tr>\n",
       "    <tr>\n",
       "      <th>83</th>\n",
       "      <td>LFS: Econ. inactive: Aged 16-17: In full-time ...</td>\n",
       "    </tr>\n",
       "    <tr>\n",
       "      <th>84</th>\n",
       "      <td>LFS: Econ. inactive: Aged 18-24: In full-time ...</td>\n",
       "    </tr>\n",
       "    <tr>\n",
       "      <th>85</th>\n",
       "      <td>LFS: Econ. inactive: Aged 16-24: In full-time ...</td>\n",
       "    </tr>\n",
       "    <tr>\n",
       "      <th>86</th>\n",
       "      <td>LFS: Econ. inactive: Aged 16-17: In full-time ...</td>\n",
       "    </tr>\n",
       "    <tr>\n",
       "      <th>87</th>\n",
       "      <td>LFS: Econ. inactive: Aged 18-24: In full-time ...</td>\n",
       "    </tr>\n",
       "    <tr>\n",
       "      <th>88</th>\n",
       "      <td>LFS: Econ. inactive: Aged 16-24: In full-time ...</td>\n",
       "    </tr>\n",
       "    <tr>\n",
       "      <th>128</th>\n",
       "      <td>LFS: Economic inactivity rate: Aged 16-24: UK:...</td>\n",
       "    </tr>\n",
       "    <tr>\n",
       "      <th>129</th>\n",
       "      <td>LFS: Economic inactivity rate: Aged 16-24: UK:...</td>\n",
       "    </tr>\n",
       "    <tr>\n",
       "      <th>130</th>\n",
       "      <td>LFS: Economic inactivity rate: Aged 16-24: UK:...</td>\n",
       "    </tr>\n",
       "    <tr>\n",
       "      <th>131</th>\n",
       "      <td>LFS: Econ. inactivity rate: Aged 16-17: Not in...</td>\n",
       "    </tr>\n",
       "    <tr>\n",
       "      <th>132</th>\n",
       "      <td>LFS: Econ. inactivity rate: Aged 18-24: Not in...</td>\n",
       "    </tr>\n",
       "    <tr>\n",
       "      <th>133</th>\n",
       "      <td>LFS: Econ. inactivity rate: Aged 16-24: Not in...</td>\n",
       "    </tr>\n",
       "    <tr>\n",
       "      <th>134</th>\n",
       "      <td>LFS: Econ. inactivity rate: Aged 16-17: Not in...</td>\n",
       "    </tr>\n",
       "    <tr>\n",
       "      <th>135</th>\n",
       "      <td>LFS: Econ. inactivity rate: Aged 18-24: Not in...</td>\n",
       "    </tr>\n",
       "    <tr>\n",
       "      <th>136</th>\n",
       "      <td>LFS: Econ. inactivity rate: Aged 16-24: Not in...</td>\n",
       "    </tr>\n",
       "    <tr>\n",
       "      <th>137</th>\n",
       "      <td>LFS: Econ. inact. rate: Aged 16-17: Not in ful...</td>\n",
       "    </tr>\n",
       "    <tr>\n",
       "      <th>138</th>\n",
       "      <td>LFS: Econ. inact. rate: Aged 18-24: Not in ful...</td>\n",
       "    </tr>\n",
       "    <tr>\n",
       "      <th>139</th>\n",
       "      <td>LFS: Econ. inact. rate: Aged 16-24: Not in ful...</td>\n",
       "    </tr>\n",
       "    <tr>\n",
       "      <th>140</th>\n",
       "      <td>LFS: Econ. inactivity rate: Aged 16-17: In ful...</td>\n",
       "    </tr>\n",
       "    <tr>\n",
       "      <th>141</th>\n",
       "      <td>LFS: Econ. inactivity rate: Aged 18-24: In ful...</td>\n",
       "    </tr>\n",
       "    <tr>\n",
       "      <th>142</th>\n",
       "      <td>LFS: Econ. inactivity rate: Aged 16-24: In ful...</td>\n",
       "    </tr>\n",
       "    <tr>\n",
       "      <th>143</th>\n",
       "      <td>LFS: Econ. inactivity rate: Aged 16-17: In ful...</td>\n",
       "    </tr>\n",
       "    <tr>\n",
       "      <th>144</th>\n",
       "      <td>LFS: Econ. inactivity rate: Aged 18-24: In ful...</td>\n",
       "    </tr>\n",
       "    <tr>\n",
       "      <th>145</th>\n",
       "      <td>LFS: Econ. inactivity rate: Aged 16-24: In ful...</td>\n",
       "    </tr>\n",
       "    <tr>\n",
       "      <th>146</th>\n",
       "      <td>LFS: Econ. inactivity rate: Aged 16-17: In ful...</td>\n",
       "    </tr>\n",
       "    <tr>\n",
       "      <th>147</th>\n",
       "      <td>LFS: Econ. inactivity rate: Aged 18-24: In ful...</td>\n",
       "    </tr>\n",
       "    <tr>\n",
       "      <th>148</th>\n",
       "      <td>LFS: Econ. inactivity rate: Aged 16-24: In ful...</td>\n",
       "    </tr>\n",
       "    <tr>\n",
       "      <th>160</th>\n",
       "      <td>LFS: Econ inactive: Look after family/home: UK...</td>\n",
       "    </tr>\n",
       "    <tr>\n",
       "      <th>161</th>\n",
       "      <td>LFS: Economically inactive: UK: Male: Does not...</td>\n",
       "    </tr>\n",
       "    <tr>\n",
       "      <th>162</th>\n",
       "      <td>LFS: Econ inactive: Wants a Job: Students: UK:...</td>\n",
       "    </tr>\n",
       "    <tr>\n",
       "      <th>163</th>\n",
       "      <td>LFS: Econ inactive: Does not want a Job: Other...</td>\n",
       "    </tr>\n",
       "    <tr>\n",
       "      <th>164</th>\n",
       "      <td>LFS: Economically Inactive: UK: Male: Aged 16-...</td>\n",
       "    </tr>\n",
       "    <tr>\n",
       "      <th>165</th>\n",
       "      <td>LFS: Econ inactive: Temp Sick: UK: Male: 000s: SA</td>\n",
       "    </tr>\n",
       "    <tr>\n",
       "      <th>166</th>\n",
       "      <td>LFS: Econ inactive: Long Term Sick: UK: Male: ...</td>\n",
       "    </tr>\n",
       "    <tr>\n",
       "      <th>167</th>\n",
       "      <td>LFS: Econ inactive: Retired: UK: Male: 000s: SA</td>\n",
       "    </tr>\n",
       "    <tr>\n",
       "      <th>168</th>\n",
       "      <td>LFS: Econ inactive: Other: UK: Male: 000s: SA</td>\n",
       "    </tr>\n",
       "    <tr>\n",
       "      <th>169</th>\n",
       "      <td>LFS: Econ inactive: Students: UK: Male: %: SA</td>\n",
       "    </tr>\n",
       "    <tr>\n",
       "      <th>170</th>\n",
       "      <td>LFS: Econ inactive: Look after family/home: UK...</td>\n",
       "    </tr>\n",
       "    <tr>\n",
       "      <th>171</th>\n",
       "      <td>LFS: Econ inactive: Temp Sick: UK: Male: %: SA</td>\n",
       "    </tr>\n",
       "    <tr>\n",
       "      <th>172</th>\n",
       "      <td>LFS: Econ inactive: Long Term Sick: UK: Male: ...</td>\n",
       "    </tr>\n",
       "    <tr>\n",
       "      <th>173</th>\n",
       "      <td>LFS: Econ inactive: Discouraged Worker: UK: Ma...</td>\n",
       "    </tr>\n",
       "    <tr>\n",
       "      <th>174</th>\n",
       "      <td>LFS: Econ inactive: Retired: UK: Male: %: SA</td>\n",
       "    </tr>\n",
       "    <tr>\n",
       "      <th>175</th>\n",
       "      <td>LFS: Econ inactive: Students: UK: Male: 000s: SA</td>\n",
       "    </tr>\n",
       "    <tr>\n",
       "      <th>176</th>\n",
       "      <td>LFS: Econ inactive: Other: UK: Male: %: SA</td>\n",
       "    </tr>\n",
       "    <tr>\n",
       "      <th>177</th>\n",
       "      <td>LFS: Economically inactive: UK: Male: Wants a ...</td>\n",
       "    </tr>\n",
       "    <tr>\n",
       "      <th>178</th>\n",
       "      <td>LFS: Econ inactive: Wants a Job: Temp Sick: UK...</td>\n",
       "    </tr>\n",
       "    <tr>\n",
       "      <th>179</th>\n",
       "      <td>LFS: Econ inactive: Wants a Job: Students: UK:...</td>\n",
       "    </tr>\n",
       "    <tr>\n",
       "      <th>180</th>\n",
       "      <td>LFS: Econ inactive: Wants a Job: Look after fa...</td>\n",
       "    </tr>\n",
       "    <tr>\n",
       "      <th>181</th>\n",
       "      <td>LFS: Econ inactive: Wants a Job: Temp Sick: UK...</td>\n",
       "    </tr>\n",
       "    <tr>\n",
       "      <th>182</th>\n",
       "      <td>LFS: Econ inactive: Wants a Job: Other: UK: Ma...</td>\n",
       "    </tr>\n",
       "    <tr>\n",
       "      <th>183</th>\n",
       "      <td>LFS: Econ inactive: Wants a Job: Long Term Sic...</td>\n",
       "    </tr>\n",
       "    <tr>\n",
       "      <th>184</th>\n",
       "      <td>LFS: Econ inactive: Wants a Job: Discouraged W...</td>\n",
       "    </tr>\n",
       "    <tr>\n",
       "      <th>185</th>\n",
       "      <td>LFS: Econ inactive: Wants a Job: Other: UK: Ma...</td>\n",
       "    </tr>\n",
       "    <tr>\n",
       "      <th>188</th>\n",
       "      <td>LFS: Econ inactive: Does not want a Job: Stude...</td>\n",
       "    </tr>\n",
       "    <tr>\n",
       "      <th>190</th>\n",
       "      <td>LFS: Econ inactive: Does not want a Job: Look ...</td>\n",
       "    </tr>\n",
       "    <tr>\n",
       "      <th>192</th>\n",
       "      <td>LFS: Econ inactive: Does not want a Job: Temp ...</td>\n",
       "    </tr>\n",
       "    <tr>\n",
       "      <th>193</th>\n",
       "      <td>LFS: Econ inactive: Does not want a Job: Stude...</td>\n",
       "    </tr>\n",
       "    <tr>\n",
       "      <th>195</th>\n",
       "      <td>LFS: Econ inactive: Does not want a Job: Long ...</td>\n",
       "    </tr>\n",
       "    <tr>\n",
       "      <th>196</th>\n",
       "      <td>LFS: Econ inactive: Does not want a Job: Look ...</td>\n",
       "    </tr>\n",
       "    <tr>\n",
       "      <th>197</th>\n",
       "      <td>LFS: Econ inactive: Does not want a Job: Temp ...</td>\n",
       "    </tr>\n",
       "    <tr>\n",
       "      <th>198</th>\n",
       "      <td>LFS: Econ inactive: Does not want a Job: Other...</td>\n",
       "    </tr>\n",
       "    <tr>\n",
       "      <th>199</th>\n",
       "      <td>LFS: Econ inactive: Does not want a Job: Long ...</td>\n",
       "    </tr>\n",
       "    <tr>\n",
       "      <th>200</th>\n",
       "      <td>LFS: Econ inactive: Does not want a Job: Retir...</td>\n",
       "    </tr>\n",
       "    <tr>\n",
       "      <th>202</th>\n",
       "      <td>LFS: Econ. inactivity does not want a job: Tot...</td>\n",
       "    </tr>\n",
       "    <tr>\n",
       "      <th>293</th>\n",
       "      <td>LFS: Economic Inactivity Level Annual Change: ...</td>\n",
       "    </tr>\n",
       "    <tr>\n",
       "      <th>294</th>\n",
       "      <td>LFS: Economic Inactivity Rate Annual Change: U...</td>\n",
       "    </tr>\n",
       "    <tr>\n",
       "      <th>299</th>\n",
       "      <td>LFS: Economic Inactivity quarterly change: UK:...</td>\n",
       "    </tr>\n",
       "    <tr>\n",
       "      <th>300</th>\n",
       "      <td>LFS: Economic Inactivity rate quarterly change...</td>\n",
       "    </tr>\n",
       "    <tr>\n",
       "      <th>317</th>\n",
       "      <td>LFS: Economically inactive: Aged 16-64: GB: Ma...</td>\n",
       "    </tr>\n",
       "    <tr>\n",
       "      <th>318</th>\n",
       "      <td>LFS: Economic inactivity rate: Aged 16-64: GB:...</td>\n",
       "    </tr>\n",
       "    <tr>\n",
       "      <th>322</th>\n",
       "      <td>LFS: Economic Inactivity rate: UK: Women: Aged...</td>\n",
       "    </tr>\n",
       "    <tr>\n",
       "      <th>323</th>\n",
       "      <td>LFS: Economic Inactivity rate: UK: Men: Aged 1...</td>\n",
       "    </tr>\n",
       "    <tr>\n",
       "      <th>324</th>\n",
       "      <td>LFS: Economic Inactivity rate: UK: People: Age...</td>\n",
       "    </tr>\n",
       "    <tr>\n",
       "      <th>325</th>\n",
       "      <td>LFS: Economic Inactivity rate: UK: Women: Aged...</td>\n",
       "    </tr>\n",
       "    <tr>\n",
       "      <th>326</th>\n",
       "      <td>LFS: Economic Inactivity rate: UK: Men: Aged 1...</td>\n",
       "    </tr>\n",
       "    <tr>\n",
       "      <th>327</th>\n",
       "      <td>LFS: Economic Inactivity rate: UK: People: Age...</td>\n",
       "    </tr>\n",
       "    <tr>\n",
       "      <th>408</th>\n",
       "      <td>LFS: Economic Inactivity: UK: People: Aged 15 ...</td>\n",
       "    </tr>\n",
       "    <tr>\n",
       "      <th>409</th>\n",
       "      <td>LFS: Economic Inactivity: UK: Women: Aged 15 a...</td>\n",
       "    </tr>\n",
       "    <tr>\n",
       "      <th>410</th>\n",
       "      <td>LFS: Economic Inactivity: UK: Men: Aged 15 and...</td>\n",
       "    </tr>\n",
       "    <tr>\n",
       "      <th>411</th>\n",
       "      <td>LFS: Economic Inactivity: UK: People: Aged 15-...</td>\n",
       "    </tr>\n",
       "    <tr>\n",
       "      <th>412</th>\n",
       "      <td>LFS: Economic Inactivity: UK: Women: Aged 15-2...</td>\n",
       "    </tr>\n",
       "    <tr>\n",
       "      <th>413</th>\n",
       "      <td>LFS: Economic Inactivity: UK: Men: Aged 15-24:...</td>\n",
       "    </tr>\n",
       "    <tr>\n",
       "      <th>414</th>\n",
       "      <td>LFS: Economic Inactivity: UK: People: Aged 25-...</td>\n",
       "    </tr>\n",
       "    <tr>\n",
       "      <th>415</th>\n",
       "      <td>LFS: Economic Inactivity: UK: Women: Aged 25-5...</td>\n",
       "    </tr>\n",
       "    <tr>\n",
       "      <th>416</th>\n",
       "      <td>LFS: Economic Inactivity: UK: Men: Aged 25-54:...</td>\n",
       "    </tr>\n",
       "    <tr>\n",
       "      <th>417</th>\n",
       "      <td>LFS: Economic Inactivity: UK: People: Aged 55-...</td>\n",
       "    </tr>\n",
       "    <tr>\n",
       "      <th>418</th>\n",
       "      <td>LFS: Economic Inactivity: UK: Women: Aged 55-6...</td>\n",
       "    </tr>\n",
       "    <tr>\n",
       "      <th>419</th>\n",
       "      <td>LFS: Economic Inactivity: UK: Men: Aged Aged 5...</td>\n",
       "    </tr>\n",
       "  </tbody>\n",
       "</table>\n",
       "</div>"
      ],
      "text/plain": [
       "                                                 Title\n",
       "71   LFS: Econ. inactive: Aged 16-17: Not in full-t...\n",
       "72   LFS: Econ. inactive: Aged 18-24: Not in full-t...\n",
       "73   LFS: Econ. inactive: Aged 16-24: Not in full-t...\n",
       "74   LFS: Econ. inactive: Aged 16-17: Not in full-t...\n",
       "75   LFS: Econ. inactive: Aged 18-24: Not in full-t...\n",
       "76   LFS: Econ. inactive: Aged 16-24: Not in full-t...\n",
       "77   LFS: Econ. inactive: Aged 16-17: Not in full-t...\n",
       "78   LFS: Econ. inactive: Aged 18-24: Not in full-t...\n",
       "79   LFS: Econ. inactive: Aged 16-24: Not in full-t...\n",
       "80   LFS: Econ. inactive: Aged 16-17: In full-time ...\n",
       "81   LFS: Econ. inactive: Aged 18-24: In full-time ...\n",
       "82   LFS: Econ. inactive: Aged 16-24: In full-time ...\n",
       "83   LFS: Econ. inactive: Aged 16-17: In full-time ...\n",
       "84   LFS: Econ. inactive: Aged 18-24: In full-time ...\n",
       "85   LFS: Econ. inactive: Aged 16-24: In full-time ...\n",
       "86   LFS: Econ. inactive: Aged 16-17: In full-time ...\n",
       "87   LFS: Econ. inactive: Aged 18-24: In full-time ...\n",
       "88   LFS: Econ. inactive: Aged 16-24: In full-time ...\n",
       "128  LFS: Economic inactivity rate: Aged 16-24: UK:...\n",
       "129  LFS: Economic inactivity rate: Aged 16-24: UK:...\n",
       "130  LFS: Economic inactivity rate: Aged 16-24: UK:...\n",
       "131  LFS: Econ. inactivity rate: Aged 16-17: Not in...\n",
       "132  LFS: Econ. inactivity rate: Aged 18-24: Not in...\n",
       "133  LFS: Econ. inactivity rate: Aged 16-24: Not in...\n",
       "134  LFS: Econ. inactivity rate: Aged 16-17: Not in...\n",
       "135  LFS: Econ. inactivity rate: Aged 18-24: Not in...\n",
       "136  LFS: Econ. inactivity rate: Aged 16-24: Not in...\n",
       "137  LFS: Econ. inact. rate: Aged 16-17: Not in ful...\n",
       "138  LFS: Econ. inact. rate: Aged 18-24: Not in ful...\n",
       "139  LFS: Econ. inact. rate: Aged 16-24: Not in ful...\n",
       "140  LFS: Econ. inactivity rate: Aged 16-17: In ful...\n",
       "141  LFS: Econ. inactivity rate: Aged 18-24: In ful...\n",
       "142  LFS: Econ. inactivity rate: Aged 16-24: In ful...\n",
       "143  LFS: Econ. inactivity rate: Aged 16-17: In ful...\n",
       "144  LFS: Econ. inactivity rate: Aged 18-24: In ful...\n",
       "145  LFS: Econ. inactivity rate: Aged 16-24: In ful...\n",
       "146  LFS: Econ. inactivity rate: Aged 16-17: In ful...\n",
       "147  LFS: Econ. inactivity rate: Aged 18-24: In ful...\n",
       "148  LFS: Econ. inactivity rate: Aged 16-24: In ful...\n",
       "160  LFS: Econ inactive: Look after family/home: UK...\n",
       "161  LFS: Economically inactive: UK: Male: Does not...\n",
       "162  LFS: Econ inactive: Wants a Job: Students: UK:...\n",
       "163  LFS: Econ inactive: Does not want a Job: Other...\n",
       "164  LFS: Economically Inactive: UK: Male: Aged 16-...\n",
       "165  LFS: Econ inactive: Temp Sick: UK: Male: 000s: SA\n",
       "166  LFS: Econ inactive: Long Term Sick: UK: Male: ...\n",
       "167    LFS: Econ inactive: Retired: UK: Male: 000s: SA\n",
       "168      LFS: Econ inactive: Other: UK: Male: 000s: SA\n",
       "169      LFS: Econ inactive: Students: UK: Male: %: SA\n",
       "170  LFS: Econ inactive: Look after family/home: UK...\n",
       "171     LFS: Econ inactive: Temp Sick: UK: Male: %: SA\n",
       "172  LFS: Econ inactive: Long Term Sick: UK: Male: ...\n",
       "173  LFS: Econ inactive: Discouraged Worker: UK: Ma...\n",
       "174       LFS: Econ inactive: Retired: UK: Male: %: SA\n",
       "175   LFS: Econ inactive: Students: UK: Male: 000s: SA\n",
       "176         LFS: Econ inactive: Other: UK: Male: %: SA\n",
       "177  LFS: Economically inactive: UK: Male: Wants a ...\n",
       "178  LFS: Econ inactive: Wants a Job: Temp Sick: UK...\n",
       "179  LFS: Econ inactive: Wants a Job: Students: UK:...\n",
       "180  LFS: Econ inactive: Wants a Job: Look after fa...\n",
       "181  LFS: Econ inactive: Wants a Job: Temp Sick: UK...\n",
       "182  LFS: Econ inactive: Wants a Job: Other: UK: Ma...\n",
       "183  LFS: Econ inactive: Wants a Job: Long Term Sic...\n",
       "184  LFS: Econ inactive: Wants a Job: Discouraged W...\n",
       "185  LFS: Econ inactive: Wants a Job: Other: UK: Ma...\n",
       "188  LFS: Econ inactive: Does not want a Job: Stude...\n",
       "190  LFS: Econ inactive: Does not want a Job: Look ...\n",
       "192  LFS: Econ inactive: Does not want a Job: Temp ...\n",
       "193  LFS: Econ inactive: Does not want a Job: Stude...\n",
       "195  LFS: Econ inactive: Does not want a Job: Long ...\n",
       "196  LFS: Econ inactive: Does not want a Job: Look ...\n",
       "197  LFS: Econ inactive: Does not want a Job: Temp ...\n",
       "198  LFS: Econ inactive: Does not want a Job: Other...\n",
       "199  LFS: Econ inactive: Does not want a Job: Long ...\n",
       "200  LFS: Econ inactive: Does not want a Job: Retir...\n",
       "202  LFS: Econ. inactivity does not want a job: Tot...\n",
       "293  LFS: Economic Inactivity Level Annual Change: ...\n",
       "294  LFS: Economic Inactivity Rate Annual Change: U...\n",
       "299  LFS: Economic Inactivity quarterly change: UK:...\n",
       "300  LFS: Economic Inactivity rate quarterly change...\n",
       "317  LFS: Economically inactive: Aged 16-64: GB: Ma...\n",
       "318  LFS: Economic inactivity rate: Aged 16-64: GB:...\n",
       "322  LFS: Economic Inactivity rate: UK: Women: Aged...\n",
       "323  LFS: Economic Inactivity rate: UK: Men: Aged 1...\n",
       "324  LFS: Economic Inactivity rate: UK: People: Age...\n",
       "325  LFS: Economic Inactivity rate: UK: Women: Aged...\n",
       "326  LFS: Economic Inactivity rate: UK: Men: Aged 1...\n",
       "327  LFS: Economic Inactivity rate: UK: People: Age...\n",
       "408  LFS: Economic Inactivity: UK: People: Aged 15 ...\n",
       "409  LFS: Economic Inactivity: UK: Women: Aged 15 a...\n",
       "410  LFS: Economic Inactivity: UK: Men: Aged 15 and...\n",
       "411  LFS: Economic Inactivity: UK: People: Aged 15-...\n",
       "412  LFS: Economic Inactivity: UK: Women: Aged 15-2...\n",
       "413  LFS: Economic Inactivity: UK: Men: Aged 15-24:...\n",
       "414  LFS: Economic Inactivity: UK: People: Aged 25-...\n",
       "415  LFS: Economic Inactivity: UK: Women: Aged 25-5...\n",
       "416  LFS: Economic Inactivity: UK: Men: Aged 25-54:...\n",
       "417  LFS: Economic Inactivity: UK: People: Aged 55-...\n",
       "418  LFS: Economic Inactivity: UK: Women: Aged 55-6...\n",
       "419  LFS: Economic Inactivity: UK: Men: Aged Aged 5..."
      ]
     },
     "execution_count": 42,
     "metadata": {},
     "output_type": "execute_result"
    }
   ],
   "source": [
    "var_df[var_df['Title'].apply(lambda s: preprocess_field_name(s)).str.contains(\"lfs econ inact\")].head(100)"
   ]
  },
  {
   "cell_type": "markdown",
   "metadata": {},
   "source": [
    "From the above plot and manual checking of the field names, potentially useful avenues to research further are:\n",
    "\n",
    "- `AWE: Whole Economy Real Terms Level (£): Seasonally Adjusted Total Pay`\n",
    "- `STANDARDISED ILO UNEMPLOYMENT RATES SEASONALLY ADJUSTED`\n",
    "    - Split by countries. Compare G7 countries.\n",
    "    - Alternatively `International Comparison Employment Rates`\n",
    "- `LFS: Econ. inactivity rate` and `LFS: Economic inactivity rate` and `LFS: Economic Inactivity` and `LFS: Econ inactive`\n",
    "    - Split by demographic (region/age/sex), lots of fields.\n",
    "- `LFS: Employment rate`\n",
    "    - Split by sex and age\n",
    "- `LFS: Usual weekly hrs of work` and `LFS: Usual weekly hours of work`\n",
    "- `LFS: Econ. inactivity reasons`\n",
    "    - Retired, discouraged, long-term sick, etc\n",
    "    - Split by total and female\n",
    "- `LFS: Econ. inactivity wants a job` and `LFS: Econ. inactivity does not want a job`\n",
    "    - reasons for inactivity, e.g. Looking after family\n",
    "- `16-17 year old population`, `16-17 year old total in FTE` and `16-17 year old total not in FTE`\n",
    "    - Same for 18-24\n",
    "    - Focus on young people if deep-dive needed\n",
    "- `LFS: Employment` and `LFS: Economic Activity`\n",
    "- `Employment rates by country of birth` and `Employment rates by nationality`\n",
    "- `UK Job Vacancies`"
   ]
  },
  {
   "cell_type": "markdown",
   "metadata": {},
   "source": [
    "## 2. LFS Monthly\n"
   ]
  },
  {
   "cell_type": "markdown",
   "metadata": {},
   "source": [
    "Load and pre-process the data"
   ]
  },
  {
   "cell_type": "code",
   "execution_count": 14,
   "metadata": {},
   "outputs": [
    {
     "data": {
      "text/plain": [
       "'/Users/gurpreetjohl/workspace/python/growingeconomy/data/lfs_monthly_variables.csv'"
      ]
     },
     "execution_count": 14,
     "metadata": {},
     "output_type": "execute_result"
    }
   ],
   "source": [
    "str(DATA_FILEPATHS[1])"
   ]
  },
  {
   "cell_type": "code",
   "execution_count": 44,
   "metadata": {},
   "outputs": [
    {
     "data": {
      "text/html": [
       "<div>\n",
       "<style scoped>\n",
       "    .dataframe tbody tr th:only-of-type {\n",
       "        vertical-align: middle;\n",
       "    }\n",
       "\n",
       "    .dataframe tbody tr th {\n",
       "        vertical-align: top;\n",
       "    }\n",
       "\n",
       "    .dataframe thead th {\n",
       "        text-align: right;\n",
       "    }\n",
       "</style>\n",
       "<table border=\"1\" class=\"dataframe\">\n",
       "  <thead>\n",
       "    <tr style=\"text-align: right;\">\n",
       "      <th></th>\n",
       "      <th>awe whole economy real terms year on year single month growth (%) seasonally adjusted regular pay</th>\n",
       "      <th>awe whole economy real terms year on year three month growth (%) seasonally adjusted regular pay</th>\n",
       "      <th>awe whole economy real terms level (£) seasonally adjusted regular pay</th>\n",
       "      <th>awe whole economy real terms year on year single month growth (%) seasonally adjusted total pay</th>\n",
       "      <th>awe whole economy real terms year on year three month growth (%) seasonally adjusted total pay</th>\n",
       "      <th>awe whole economy real terms level (£) seasonally adjusted total pay</th>\n",
       "      <th>employment rate canada (oecd) seasonally adjusted</th>\n",
       "      <th>employment rate japan (oecd) seasonally adjusted</th>\n",
       "      <th>employment rate united states (oecd) seasonally adjusted</th>\n",
       "      <th>standardised ilo unemployment rates, seasonally adjusted, romania - eurostat</th>\n",
       "      <th>...</th>\n",
       "      <th>standardised ilo unemployment rates seasonally adjusted luxembourg - eurostat</th>\n",
       "      <th>standardised ilo unemployment rates seasonally adjusted netherlands - eurostat</th>\n",
       "      <th>standardised ilo unemployment rates seasonally adjusted austria - eurostat</th>\n",
       "      <th>standardised ilo unemployment rates seasonally adjusted portugal - eurostat</th>\n",
       "      <th>standardised ilo unemployment rates seasonally adjusted finland - eurostat</th>\n",
       "      <th>standardised ilo unemployment rates seasonally adjusted sweden - eurostat</th>\n",
       "      <th>standardised ilo unemployment rates seasonally adjusted united kingdom eurostat</th>\n",
       "      <th>standardised ilo unemployment rates seasonally adjusted united states</th>\n",
       "      <th>standardised ilo unemployment rates seasonally adjusted japan- eurostat</th>\n",
       "      <th>standardised ilo unemployment rates seasonally adjusted canada-oecd</th>\n",
       "    </tr>\n",
       "    <tr>\n",
       "      <th>Date</th>\n",
       "      <th></th>\n",
       "      <th></th>\n",
       "      <th></th>\n",
       "      <th></th>\n",
       "      <th></th>\n",
       "      <th></th>\n",
       "      <th></th>\n",
       "      <th></th>\n",
       "      <th></th>\n",
       "      <th></th>\n",
       "      <th></th>\n",
       "      <th></th>\n",
       "      <th></th>\n",
       "      <th></th>\n",
       "      <th></th>\n",
       "      <th></th>\n",
       "      <th></th>\n",
       "      <th></th>\n",
       "      <th></th>\n",
       "      <th></th>\n",
       "      <th></th>\n",
       "    </tr>\n",
       "  </thead>\n",
       "  <tbody>\n",
       "    <tr>\n",
       "      <th>1992-03-01</th>\n",
       "      <td>NaN</td>\n",
       "      <td>NaN</td>\n",
       "      <td>NaN</td>\n",
       "      <td>NaN</td>\n",
       "      <td>NaN</td>\n",
       "      <td>NaN</td>\n",
       "      <td>NaN</td>\n",
       "      <td>NaN</td>\n",
       "      <td>NaN</td>\n",
       "      <td>NaN</td>\n",
       "      <td>...</td>\n",
       "      <td>NaN</td>\n",
       "      <td>NaN</td>\n",
       "      <td>NaN</td>\n",
       "      <td>NaN</td>\n",
       "      <td>NaN</td>\n",
       "      <td>NaN</td>\n",
       "      <td>NaN</td>\n",
       "      <td>NaN</td>\n",
       "      <td>NaN</td>\n",
       "      <td>10.9</td>\n",
       "    </tr>\n",
       "    <tr>\n",
       "      <th>1992-04-01</th>\n",
       "      <td>NaN</td>\n",
       "      <td>NaN</td>\n",
       "      <td>NaN</td>\n",
       "      <td>NaN</td>\n",
       "      <td>NaN</td>\n",
       "      <td>NaN</td>\n",
       "      <td>NaN</td>\n",
       "      <td>NaN</td>\n",
       "      <td>NaN</td>\n",
       "      <td>NaN</td>\n",
       "      <td>...</td>\n",
       "      <td>NaN</td>\n",
       "      <td>NaN</td>\n",
       "      <td>NaN</td>\n",
       "      <td>NaN</td>\n",
       "      <td>NaN</td>\n",
       "      <td>NaN</td>\n",
       "      <td>NaN</td>\n",
       "      <td>NaN</td>\n",
       "      <td>NaN</td>\n",
       "      <td>10.7</td>\n",
       "    </tr>\n",
       "    <tr>\n",
       "      <th>1992-05-01</th>\n",
       "      <td>NaN</td>\n",
       "      <td>NaN</td>\n",
       "      <td>NaN</td>\n",
       "      <td>NaN</td>\n",
       "      <td>NaN</td>\n",
       "      <td>NaN</td>\n",
       "      <td>NaN</td>\n",
       "      <td>NaN</td>\n",
       "      <td>NaN</td>\n",
       "      <td>NaN</td>\n",
       "      <td>...</td>\n",
       "      <td>NaN</td>\n",
       "      <td>NaN</td>\n",
       "      <td>NaN</td>\n",
       "      <td>NaN</td>\n",
       "      <td>NaN</td>\n",
       "      <td>NaN</td>\n",
       "      <td>NaN</td>\n",
       "      <td>NaN</td>\n",
       "      <td>NaN</td>\n",
       "      <td>10.9</td>\n",
       "    </tr>\n",
       "    <tr>\n",
       "      <th>1992-06-01</th>\n",
       "      <td>NaN</td>\n",
       "      <td>NaN</td>\n",
       "      <td>NaN</td>\n",
       "      <td>NaN</td>\n",
       "      <td>NaN</td>\n",
       "      <td>NaN</td>\n",
       "      <td>NaN</td>\n",
       "      <td>NaN</td>\n",
       "      <td>NaN</td>\n",
       "      <td>NaN</td>\n",
       "      <td>...</td>\n",
       "      <td>NaN</td>\n",
       "      <td>NaN</td>\n",
       "      <td>NaN</td>\n",
       "      <td>NaN</td>\n",
       "      <td>NaN</td>\n",
       "      <td>NaN</td>\n",
       "      <td>NaN</td>\n",
       "      <td>NaN</td>\n",
       "      <td>NaN</td>\n",
       "      <td>11.4</td>\n",
       "    </tr>\n",
       "    <tr>\n",
       "      <th>1992-07-01</th>\n",
       "      <td>NaN</td>\n",
       "      <td>NaN</td>\n",
       "      <td>NaN</td>\n",
       "      <td>NaN</td>\n",
       "      <td>NaN</td>\n",
       "      <td>NaN</td>\n",
       "      <td>NaN</td>\n",
       "      <td>NaN</td>\n",
       "      <td>NaN</td>\n",
       "      <td>NaN</td>\n",
       "      <td>...</td>\n",
       "      <td>NaN</td>\n",
       "      <td>NaN</td>\n",
       "      <td>NaN</td>\n",
       "      <td>NaN</td>\n",
       "      <td>NaN</td>\n",
       "      <td>NaN</td>\n",
       "      <td>NaN</td>\n",
       "      <td>NaN</td>\n",
       "      <td>NaN</td>\n",
       "      <td>11.3</td>\n",
       "    </tr>\n",
       "    <tr>\n",
       "      <th>...</th>\n",
       "      <td>...</td>\n",
       "      <td>...</td>\n",
       "      <td>...</td>\n",
       "      <td>...</td>\n",
       "      <td>...</td>\n",
       "      <td>...</td>\n",
       "      <td>...</td>\n",
       "      <td>...</td>\n",
       "      <td>...</td>\n",
       "      <td>...</td>\n",
       "      <td>...</td>\n",
       "      <td>...</td>\n",
       "      <td>...</td>\n",
       "      <td>...</td>\n",
       "      <td>...</td>\n",
       "      <td>...</td>\n",
       "      <td>...</td>\n",
       "      <td>...</td>\n",
       "      <td>...</td>\n",
       "      <td>...</td>\n",
       "      <td>...</td>\n",
       "    </tr>\n",
       "    <tr>\n",
       "      <th>2023-11-01</th>\n",
       "      <td>2.0</td>\n",
       "      <td>1.5</td>\n",
       "      <td>482.0</td>\n",
       "      <td>1.4</td>\n",
       "      <td>1.5</td>\n",
       "      <td>513.0</td>\n",
       "      <td>NaN</td>\n",
       "      <td>NaN</td>\n",
       "      <td>NaN</td>\n",
       "      <td>NaN</td>\n",
       "      <td>...</td>\n",
       "      <td>NaN</td>\n",
       "      <td>NaN</td>\n",
       "      <td>NaN</td>\n",
       "      <td>NaN</td>\n",
       "      <td>NaN</td>\n",
       "      <td>NaN</td>\n",
       "      <td>NaN</td>\n",
       "      <td>NaN</td>\n",
       "      <td>NaN</td>\n",
       "      <td>NaN</td>\n",
       "    </tr>\n",
       "    <tr>\n",
       "      <th>2023-12-01</th>\n",
       "      <td>1.9</td>\n",
       "      <td>1.8</td>\n",
       "      <td>481.0</td>\n",
       "      <td>1.6</td>\n",
       "      <td>1.4</td>\n",
       "      <td>513.0</td>\n",
       "      <td>NaN</td>\n",
       "      <td>NaN</td>\n",
       "      <td>NaN</td>\n",
       "      <td>NaN</td>\n",
       "      <td>...</td>\n",
       "      <td>NaN</td>\n",
       "      <td>NaN</td>\n",
       "      <td>NaN</td>\n",
       "      <td>NaN</td>\n",
       "      <td>NaN</td>\n",
       "      <td>NaN</td>\n",
       "      <td>NaN</td>\n",
       "      <td>NaN</td>\n",
       "      <td>NaN</td>\n",
       "      <td>NaN</td>\n",
       "    </tr>\n",
       "    <tr>\n",
       "      <th>2024-01-01</th>\n",
       "      <td>1.7</td>\n",
       "      <td>1.9</td>\n",
       "      <td>481.0</td>\n",
       "      <td>1.4</td>\n",
       "      <td>1.5</td>\n",
       "      <td>513.0</td>\n",
       "      <td>NaN</td>\n",
       "      <td>NaN</td>\n",
       "      <td>NaN</td>\n",
       "      <td>NaN</td>\n",
       "      <td>...</td>\n",
       "      <td>NaN</td>\n",
       "      <td>NaN</td>\n",
       "      <td>NaN</td>\n",
       "      <td>NaN</td>\n",
       "      <td>NaN</td>\n",
       "      <td>NaN</td>\n",
       "      <td>NaN</td>\n",
       "      <td>NaN</td>\n",
       "      <td>NaN</td>\n",
       "      <td>NaN</td>\n",
       "    </tr>\n",
       "    <tr>\n",
       "      <th>2024-02-01</th>\n",
       "      <td>2.0</td>\n",
       "      <td>1.9</td>\n",
       "      <td>482.0</td>\n",
       "      <td>2.0</td>\n",
       "      <td>1.7</td>\n",
       "      <td>516.0</td>\n",
       "      <td>NaN</td>\n",
       "      <td>NaN</td>\n",
       "      <td>NaN</td>\n",
       "      <td>NaN</td>\n",
       "      <td>...</td>\n",
       "      <td>NaN</td>\n",
       "      <td>NaN</td>\n",
       "      <td>NaN</td>\n",
       "      <td>NaN</td>\n",
       "      <td>NaN</td>\n",
       "      <td>NaN</td>\n",
       "      <td>NaN</td>\n",
       "      <td>NaN</td>\n",
       "      <td>NaN</td>\n",
       "      <td>NaN</td>\n",
       "    </tr>\n",
       "    <tr>\n",
       "      <th>2024-03-01</th>\n",
       "      <td>2.3</td>\n",
       "      <td>2.0</td>\n",
       "      <td>483.0</td>\n",
       "      <td>1.6</td>\n",
       "      <td>1.7</td>\n",
       "      <td>518.0</td>\n",
       "      <td>NaN</td>\n",
       "      <td>NaN</td>\n",
       "      <td>NaN</td>\n",
       "      <td>NaN</td>\n",
       "      <td>...</td>\n",
       "      <td>NaN</td>\n",
       "      <td>NaN</td>\n",
       "      <td>NaN</td>\n",
       "      <td>NaN</td>\n",
       "      <td>NaN</td>\n",
       "      <td>NaN</td>\n",
       "      <td>NaN</td>\n",
       "      <td>NaN</td>\n",
       "      <td>NaN</td>\n",
       "      <td>NaN</td>\n",
       "    </tr>\n",
       "  </tbody>\n",
       "</table>\n",
       "<p>385 rows × 1830 columns</p>\n",
       "</div>"
      ],
      "text/plain": [
       "            awe whole economy real terms year on year single month growth (%) seasonally adjusted regular pay  \\\n",
       "Date                                                                                                            \n",
       "1992-03-01                                                NaN                                                   \n",
       "1992-04-01                                                NaN                                                   \n",
       "1992-05-01                                                NaN                                                   \n",
       "1992-06-01                                                NaN                                                   \n",
       "1992-07-01                                                NaN                                                   \n",
       "...                                                       ...                                                   \n",
       "2023-11-01                                                2.0                                                   \n",
       "2023-12-01                                                1.9                                                   \n",
       "2024-01-01                                                1.7                                                   \n",
       "2024-02-01                                                2.0                                                   \n",
       "2024-03-01                                                2.3                                                   \n",
       "\n",
       "            awe whole economy real terms year on year three month growth (%) seasonally adjusted regular pay  \\\n",
       "Date                                                                                                           \n",
       "1992-03-01                                                NaN                                                  \n",
       "1992-04-01                                                NaN                                                  \n",
       "1992-05-01                                                NaN                                                  \n",
       "1992-06-01                                                NaN                                                  \n",
       "1992-07-01                                                NaN                                                  \n",
       "...                                                       ...                                                  \n",
       "2023-11-01                                                1.5                                                  \n",
       "2023-12-01                                                1.8                                                  \n",
       "2024-01-01                                                1.9                                                  \n",
       "2024-02-01                                                1.9                                                  \n",
       "2024-03-01                                                2.0                                                  \n",
       "\n",
       "            awe whole economy real terms level (£) seasonally adjusted regular pay  \\\n",
       "Date                                                                                 \n",
       "1992-03-01                                                NaN                        \n",
       "1992-04-01                                                NaN                        \n",
       "1992-05-01                                                NaN                        \n",
       "1992-06-01                                                NaN                        \n",
       "1992-07-01                                                NaN                        \n",
       "...                                                       ...                        \n",
       "2023-11-01                                              482.0                        \n",
       "2023-12-01                                              481.0                        \n",
       "2024-01-01                                              481.0                        \n",
       "2024-02-01                                              482.0                        \n",
       "2024-03-01                                              483.0                        \n",
       "\n",
       "            awe whole economy real terms year on year single month growth (%) seasonally adjusted total pay  \\\n",
       "Date                                                                                                          \n",
       "1992-03-01                                                NaN                                                 \n",
       "1992-04-01                                                NaN                                                 \n",
       "1992-05-01                                                NaN                                                 \n",
       "1992-06-01                                                NaN                                                 \n",
       "1992-07-01                                                NaN                                                 \n",
       "...                                                       ...                                                 \n",
       "2023-11-01                                                1.4                                                 \n",
       "2023-12-01                                                1.6                                                 \n",
       "2024-01-01                                                1.4                                                 \n",
       "2024-02-01                                                2.0                                                 \n",
       "2024-03-01                                                1.6                                                 \n",
       "\n",
       "            awe whole economy real terms year on year three month growth (%) seasonally adjusted total pay  \\\n",
       "Date                                                                                                         \n",
       "1992-03-01                                                NaN                                                \n",
       "1992-04-01                                                NaN                                                \n",
       "1992-05-01                                                NaN                                                \n",
       "1992-06-01                                                NaN                                                \n",
       "1992-07-01                                                NaN                                                \n",
       "...                                                       ...                                                \n",
       "2023-11-01                                                1.5                                                \n",
       "2023-12-01                                                1.4                                                \n",
       "2024-01-01                                                1.5                                                \n",
       "2024-02-01                                                1.7                                                \n",
       "2024-03-01                                                1.7                                                \n",
       "\n",
       "            awe whole economy real terms level (£) seasonally adjusted total pay  \\\n",
       "Date                                                                               \n",
       "1992-03-01                                                NaN                      \n",
       "1992-04-01                                                NaN                      \n",
       "1992-05-01                                                NaN                      \n",
       "1992-06-01                                                NaN                      \n",
       "1992-07-01                                                NaN                      \n",
       "...                                                       ...                      \n",
       "2023-11-01                                              513.0                      \n",
       "2023-12-01                                              513.0                      \n",
       "2024-01-01                                              513.0                      \n",
       "2024-02-01                                              516.0                      \n",
       "2024-03-01                                              518.0                      \n",
       "\n",
       "            employment rate canada (oecd) seasonally adjusted  \\\n",
       "Date                                                            \n",
       "1992-03-01                                                NaN   \n",
       "1992-04-01                                                NaN   \n",
       "1992-05-01                                                NaN   \n",
       "1992-06-01                                                NaN   \n",
       "1992-07-01                                                NaN   \n",
       "...                                                       ...   \n",
       "2023-11-01                                                NaN   \n",
       "2023-12-01                                                NaN   \n",
       "2024-01-01                                                NaN   \n",
       "2024-02-01                                                NaN   \n",
       "2024-03-01                                                NaN   \n",
       "\n",
       "            employment rate japan (oecd) seasonally adjusted  \\\n",
       "Date                                                           \n",
       "1992-03-01                                               NaN   \n",
       "1992-04-01                                               NaN   \n",
       "1992-05-01                                               NaN   \n",
       "1992-06-01                                               NaN   \n",
       "1992-07-01                                               NaN   \n",
       "...                                                      ...   \n",
       "2023-11-01                                               NaN   \n",
       "2023-12-01                                               NaN   \n",
       "2024-01-01                                               NaN   \n",
       "2024-02-01                                               NaN   \n",
       "2024-03-01                                               NaN   \n",
       "\n",
       "            employment rate united states (oecd) seasonally adjusted  \\\n",
       "Date                                                                   \n",
       "1992-03-01                                                NaN          \n",
       "1992-04-01                                                NaN          \n",
       "1992-05-01                                                NaN          \n",
       "1992-06-01                                                NaN          \n",
       "1992-07-01                                                NaN          \n",
       "...                                                       ...          \n",
       "2023-11-01                                                NaN          \n",
       "2023-12-01                                                NaN          \n",
       "2024-01-01                                                NaN          \n",
       "2024-02-01                                                NaN          \n",
       "2024-03-01                                                NaN          \n",
       "\n",
       "            standardised ilo unemployment rates, seasonally adjusted, romania - eurostat  \\\n",
       "Date                                                                                       \n",
       "1992-03-01                                                NaN                              \n",
       "1992-04-01                                                NaN                              \n",
       "1992-05-01                                                NaN                              \n",
       "1992-06-01                                                NaN                              \n",
       "1992-07-01                                                NaN                              \n",
       "...                                                       ...                              \n",
       "2023-11-01                                                NaN                              \n",
       "2023-12-01                                                NaN                              \n",
       "2024-01-01                                                NaN                              \n",
       "2024-02-01                                                NaN                              \n",
       "2024-03-01                                                NaN                              \n",
       "\n",
       "            ...  \\\n",
       "Date        ...   \n",
       "1992-03-01  ...   \n",
       "1992-04-01  ...   \n",
       "1992-05-01  ...   \n",
       "1992-06-01  ...   \n",
       "1992-07-01  ...   \n",
       "...         ...   \n",
       "2023-11-01  ...   \n",
       "2023-12-01  ...   \n",
       "2024-01-01  ...   \n",
       "2024-02-01  ...   \n",
       "2024-03-01  ...   \n",
       "\n",
       "            standardised ilo unemployment rates seasonally adjusted luxembourg - eurostat  \\\n",
       "Date                                                                                        \n",
       "1992-03-01                                                NaN                               \n",
       "1992-04-01                                                NaN                               \n",
       "1992-05-01                                                NaN                               \n",
       "1992-06-01                                                NaN                               \n",
       "1992-07-01                                                NaN                               \n",
       "...                                                       ...                               \n",
       "2023-11-01                                                NaN                               \n",
       "2023-12-01                                                NaN                               \n",
       "2024-01-01                                                NaN                               \n",
       "2024-02-01                                                NaN                               \n",
       "2024-03-01                                                NaN                               \n",
       "\n",
       "            standardised ilo unemployment rates seasonally adjusted netherlands - eurostat  \\\n",
       "Date                                                                                         \n",
       "1992-03-01                                                NaN                                \n",
       "1992-04-01                                                NaN                                \n",
       "1992-05-01                                                NaN                                \n",
       "1992-06-01                                                NaN                                \n",
       "1992-07-01                                                NaN                                \n",
       "...                                                       ...                                \n",
       "2023-11-01                                                NaN                                \n",
       "2023-12-01                                                NaN                                \n",
       "2024-01-01                                                NaN                                \n",
       "2024-02-01                                                NaN                                \n",
       "2024-03-01                                                NaN                                \n",
       "\n",
       "            standardised ilo unemployment rates seasonally adjusted austria - eurostat  \\\n",
       "Date                                                                                     \n",
       "1992-03-01                                                NaN                            \n",
       "1992-04-01                                                NaN                            \n",
       "1992-05-01                                                NaN                            \n",
       "1992-06-01                                                NaN                            \n",
       "1992-07-01                                                NaN                            \n",
       "...                                                       ...                            \n",
       "2023-11-01                                                NaN                            \n",
       "2023-12-01                                                NaN                            \n",
       "2024-01-01                                                NaN                            \n",
       "2024-02-01                                                NaN                            \n",
       "2024-03-01                                                NaN                            \n",
       "\n",
       "            standardised ilo unemployment rates seasonally adjusted portugal - eurostat  \\\n",
       "Date                                                                                      \n",
       "1992-03-01                                                NaN                             \n",
       "1992-04-01                                                NaN                             \n",
       "1992-05-01                                                NaN                             \n",
       "1992-06-01                                                NaN                             \n",
       "1992-07-01                                                NaN                             \n",
       "...                                                       ...                             \n",
       "2023-11-01                                                NaN                             \n",
       "2023-12-01                                                NaN                             \n",
       "2024-01-01                                                NaN                             \n",
       "2024-02-01                                                NaN                             \n",
       "2024-03-01                                                NaN                             \n",
       "\n",
       "            standardised ilo unemployment rates seasonally adjusted finland - eurostat  \\\n",
       "Date                                                                                     \n",
       "1992-03-01                                                NaN                            \n",
       "1992-04-01                                                NaN                            \n",
       "1992-05-01                                                NaN                            \n",
       "1992-06-01                                                NaN                            \n",
       "1992-07-01                                                NaN                            \n",
       "...                                                       ...                            \n",
       "2023-11-01                                                NaN                            \n",
       "2023-12-01                                                NaN                            \n",
       "2024-01-01                                                NaN                            \n",
       "2024-02-01                                                NaN                            \n",
       "2024-03-01                                                NaN                            \n",
       "\n",
       "            standardised ilo unemployment rates seasonally adjusted sweden - eurostat  \\\n",
       "Date                                                                                    \n",
       "1992-03-01                                                NaN                           \n",
       "1992-04-01                                                NaN                           \n",
       "1992-05-01                                                NaN                           \n",
       "1992-06-01                                                NaN                           \n",
       "1992-07-01                                                NaN                           \n",
       "...                                                       ...                           \n",
       "2023-11-01                                                NaN                           \n",
       "2023-12-01                                                NaN                           \n",
       "2024-01-01                                                NaN                           \n",
       "2024-02-01                                                NaN                           \n",
       "2024-03-01                                                NaN                           \n",
       "\n",
       "            standardised ilo unemployment rates seasonally adjusted united kingdom eurostat  \\\n",
       "Date                                                                                          \n",
       "1992-03-01                                                NaN                                 \n",
       "1992-04-01                                                NaN                                 \n",
       "1992-05-01                                                NaN                                 \n",
       "1992-06-01                                                NaN                                 \n",
       "1992-07-01                                                NaN                                 \n",
       "...                                                       ...                                 \n",
       "2023-11-01                                                NaN                                 \n",
       "2023-12-01                                                NaN                                 \n",
       "2024-01-01                                                NaN                                 \n",
       "2024-02-01                                                NaN                                 \n",
       "2024-03-01                                                NaN                                 \n",
       "\n",
       "            standardised ilo unemployment rates seasonally adjusted united states  \\\n",
       "Date                                                                                \n",
       "1992-03-01                                                NaN                       \n",
       "1992-04-01                                                NaN                       \n",
       "1992-05-01                                                NaN                       \n",
       "1992-06-01                                                NaN                       \n",
       "1992-07-01                                                NaN                       \n",
       "...                                                       ...                       \n",
       "2023-11-01                                                NaN                       \n",
       "2023-12-01                                                NaN                       \n",
       "2024-01-01                                                NaN                       \n",
       "2024-02-01                                                NaN                       \n",
       "2024-03-01                                                NaN                       \n",
       "\n",
       "            standardised ilo unemployment rates seasonally adjusted japan- eurostat  \\\n",
       "Date                                                                                  \n",
       "1992-03-01                                                NaN                         \n",
       "1992-04-01                                                NaN                         \n",
       "1992-05-01                                                NaN                         \n",
       "1992-06-01                                                NaN                         \n",
       "1992-07-01                                                NaN                         \n",
       "...                                                       ...                         \n",
       "2023-11-01                                                NaN                         \n",
       "2023-12-01                                                NaN                         \n",
       "2024-01-01                                                NaN                         \n",
       "2024-02-01                                                NaN                         \n",
       "2024-03-01                                                NaN                         \n",
       "\n",
       "            standardised ilo unemployment rates seasonally adjusted canada-oecd  \n",
       "Date                                                                             \n",
       "1992-03-01                                               10.9                    \n",
       "1992-04-01                                               10.7                    \n",
       "1992-05-01                                               10.9                    \n",
       "1992-06-01                                               11.4                    \n",
       "1992-07-01                                               11.3                    \n",
       "...                                                       ...                    \n",
       "2023-11-01                                                NaN                    \n",
       "2023-12-01                                                NaN                    \n",
       "2024-01-01                                                NaN                    \n",
       "2024-02-01                                                NaN                    \n",
       "2024-03-01                                                NaN                    \n",
       "\n",
       "[385 rows x 1830 columns]"
      ]
     },
     "execution_count": 44,
     "metadata": {},
     "output_type": "execute_result"
    }
   ],
   "source": [
    "lfs_df = pd.read_csv(\n",
    "    str(DATA_FILEPATHS[1]),\n",
    "    header=[0],\n",
    "    skiprows=[1,2,3],  # The CDID, PreUnit and Unit headers aren't needed \n",
    "    encoding=\"ISO-8859-1\",  # Some of the PreUnit values seem to cause decoding issues with the default utf-8 encoding\n",
    "    parse_dates=['Title'],\n",
    "    date_format=\"%Y %b\"  # Parse dates from \"2024 JAN\" format\n",
    ")\n",
    "lfs_df = lfs_df.rename(columns={'Title': 'Date'})\n",
    "lfs_df = lfs_df.set_index(\"Date\")\n",
    "lfs_df.columns = [preprocess_field_name(k) for k in lfs_df.columns]\n",
    "\n",
    "lfs_df"
   ]
  },
  {
   "cell_type": "code",
   "execution_count": 45,
   "metadata": {},
   "outputs": [
    {
     "data": {
      "text/plain": [
       "<Axes: xlabel='Date'>"
      ]
     },
     "execution_count": 45,
     "metadata": {},
     "output_type": "execute_result"
    },
    {
     "data": {
      "image/png": "[encoded data removed]",
      "text/plain": [
       "<Figure size 640x480 with 1 Axes>"
      ]
     },
     "metadata": {},
     "output_type": "display_data"
    }
   ],
   "source": [
    "lfs_df['awe whole economy real terms level (£) seasonally adjusted total pay'].plot()"
   ]
  },
  {
   "cell_type": "code",
   "execution_count": null,
   "metadata": {},
   "outputs": [],
   "source": []
  },
  {
   "cell_type": "code",
   "execution_count": null,
   "metadata": {},
   "outputs": [],
   "source": []
  },
  {
   "cell_type": "markdown",
   "metadata": {},
   "source": [
    "### 2.2. Extension to GDP\n",
    "\n",
    "The ultimate mission is to grow the economy, so a proxy of the economy is important. I have downloaded GDP data from https://www.ons.gov.uk/economy/grossdomesticproductgdp/datasets/monthlygdpandmainsectorstofourdecimalplaces\n",
    "\n",
    "TODO: Another approach to picking out important fields is to train a random forest classifier on the data and use the feature importances to determine any pertinent fields that may have been missed when examining the fields \"by eye\"."
   ]
  },
  {
   "cell_type": "markdown",
   "metadata": {},
   "source": [
    "## 3. LFS Quarterly"
   ]
  },
  {
   "cell_type": "code",
   "execution_count": null,
   "metadata": {},
   "outputs": [],
   "source": []
  },
  {
   "cell_type": "markdown",
   "metadata": {},
   "source": [
    "## 4. Survey responses\n",
    "\n",
    "Independent survey responses\n",
    "from 100 participants across\n",
    "the UK to the question “what\n",
    "do you think the government\n",
    "should be doing to address\n",
    "economic inactivity\n",
    "(unemployment)”.\n",
    "\n",
    "Single response survey\n",
    "collected 15 July 2024."
   ]
  },
  {
   "cell_type": "code",
   "execution_count": 33,
   "metadata": {},
   "outputs": [
    {
     "data": {
      "text/plain": [
       "'/Users/gurpreetjohl/workspace/python/growingeconomy/data/qual_survey_responses.csv'"
      ]
     },
     "execution_count": 33,
     "metadata": {},
     "output_type": "execute_result"
    }
   ],
   "source": [
    "str(DATA_FILEPATHS[2])"
   ]
  },
  {
   "cell_type": "code",
   "execution_count": 34,
   "metadata": {},
   "outputs": [
    {
     "data": {
      "text/html": [
       "<div>\n",
       "<style scoped>\n",
       "    .dataframe tbody tr th:only-of-type {\n",
       "        vertical-align: middle;\n",
       "    }\n",
       "\n",
       "    .dataframe tbody tr th {\n",
       "        vertical-align: top;\n",
       "    }\n",
       "\n",
       "    .dataframe thead th {\n",
       "        text-align: right;\n",
       "    }\n",
       "</style>\n",
       "<table border=\"1\" class=\"dataframe\">\n",
       "  <thead>\n",
       "    <tr style=\"text-align: right;\">\n",
       "      <th></th>\n",
       "      <th>Participant ID</th>\n",
       "      <th>Employment Status</th>\n",
       "      <th>UK Region</th>\n",
       "      <th>Response</th>\n",
       "    </tr>\n",
       "  </thead>\n",
       "  <tbody>\n",
       "    <tr>\n",
       "      <th>0</th>\n",
       "      <td>P001</td>\n",
       "      <td>Unemployed</td>\n",
       "      <td>Scotland</td>\n",
       "      <td>The government should focus on providing more ...</td>\n",
       "    </tr>\n",
       "    <tr>\n",
       "      <th>1</th>\n",
       "      <td>P002</td>\n",
       "      <td>Employed</td>\n",
       "      <td>North West</td>\n",
       "      <td>I believe the government should create more in...</td>\n",
       "    </tr>\n",
       "    <tr>\n",
       "      <th>2</th>\n",
       "      <td>P003</td>\n",
       "      <td>Self-employed</td>\n",
       "      <td>London</td>\n",
       "      <td>The government needs to address the root cause...</td>\n",
       "    </tr>\n",
       "    <tr>\n",
       "      <th>3</th>\n",
       "      <td>P004</td>\n",
       "      <td>Unemployed</td>\n",
       "      <td>Wales</td>\n",
       "      <td>The government should increase unemployment be...</td>\n",
       "    </tr>\n",
       "    <tr>\n",
       "      <th>4</th>\n",
       "      <td>P005</td>\n",
       "      <td>Employed</td>\n",
       "      <td>South East</td>\n",
       "      <td>I think the government is already doing too mu...</td>\n",
       "    </tr>\n",
       "    <tr>\n",
       "      <th>...</th>\n",
       "      <td>...</td>\n",
       "      <td>...</td>\n",
       "      <td>...</td>\n",
       "      <td>...</td>\n",
       "    </tr>\n",
       "    <tr>\n",
       "      <th>105</th>\n",
       "      <td>P106</td>\n",
       "      <td>Employed</td>\n",
       "      <td>East of England</td>\n",
       "      <td>I think the government should focus on promoti...</td>\n",
       "    </tr>\n",
       "    <tr>\n",
       "      <th>106</th>\n",
       "      <td>P107</td>\n",
       "      <td>Unemployed</td>\n",
       "      <td>West Midlands</td>\n",
       "      <td>The government needs to improve support for pe...</td>\n",
       "    </tr>\n",
       "    <tr>\n",
       "      <th>107</th>\n",
       "      <td>P108</td>\n",
       "      <td>Self-employed</td>\n",
       "      <td>North East</td>\n",
       "      <td>The government should focus on supporting the ...</td>\n",
       "    </tr>\n",
       "    <tr>\n",
       "      <th>108</th>\n",
       "      <td>P109</td>\n",
       "      <td>Unemployed</td>\n",
       "      <td>Scotland</td>\n",
       "      <td>The government should provide more support for...</td>\n",
       "    </tr>\n",
       "    <tr>\n",
       "      <th>109</th>\n",
       "      <td>P110</td>\n",
       "      <td>Employed</td>\n",
       "      <td>London</td>\n",
       "      <td>I believe the government should implement stri...</td>\n",
       "    </tr>\n",
       "  </tbody>\n",
       "</table>\n",
       "<p>110 rows × 4 columns</p>\n",
       "</div>"
      ],
      "text/plain": [
       "    Participant ID Employment Status        UK Region  \\\n",
       "0             P001        Unemployed         Scotland   \n",
       "1             P002          Employed       North West   \n",
       "2             P003     Self-employed           London   \n",
       "3             P004        Unemployed            Wales   \n",
       "4             P005          Employed       South East   \n",
       "..             ...               ...              ...   \n",
       "105           P106          Employed  East of England   \n",
       "106           P107        Unemployed    West Midlands   \n",
       "107           P108     Self-employed       North East   \n",
       "108           P109        Unemployed         Scotland   \n",
       "109           P110          Employed           London   \n",
       "\n",
       "                                              Response  \n",
       "0    The government should focus on providing more ...  \n",
       "1    I believe the government should create more in...  \n",
       "2    The government needs to address the root cause...  \n",
       "3    The government should increase unemployment be...  \n",
       "4    I think the government is already doing too mu...  \n",
       "..                                                 ...  \n",
       "105  I think the government should focus on promoti...  \n",
       "106  The government needs to improve support for pe...  \n",
       "107  The government should focus on supporting the ...  \n",
       "108  The government should provide more support for...  \n",
       "109  I believe the government should implement stri...  \n",
       "\n",
       "[110 rows x 4 columns]"
      ]
     },
     "execution_count": 34,
     "metadata": {},
     "output_type": "execute_result"
    }
   ],
   "source": [
    "survey_df = pd.read_csv(str(DATA_FILEPATHS[2]))\n",
    "survey_df"
   ]
  },
  {
   "cell_type": "code",
   "execution_count": 36,
   "metadata": {},
   "outputs": [
    {
     "data": {
      "text/plain": [
       "0      The government should focus on providing more ...\n",
       "1      I believe the government should create more in...\n",
       "2      The government needs to address the root cause...\n",
       "3      The government should increase unemployment be...\n",
       "4      I think the government is already doing too mu...\n",
       "                             ...                        \n",
       "105    I think the government should focus on promoti...\n",
       "106    The government needs to improve support for pe...\n",
       "107    The government should focus on supporting the ...\n",
       "108    The government should provide more support for...\n",
       "109    I believe the government should implement stri...\n",
       "Name: Response, Length: 110, dtype: object"
      ]
     },
     "execution_count": 36,
     "metadata": {},
     "output_type": "execute_result"
    }
   ],
   "source": [
    "survey_df['Response']"
   ]
  },
  {
   "cell_type": "markdown",
   "metadata": {},
   "source": []
  }
 ],
 "metadata": {
  "kernelspec": {
   "display_name": "growingeconomy",
   "language": "python",
   "name": "python3"
  },
  "language_info": {
   "codemirror_mode": {
    "name": "ipython",
    "version": 3
   },
   "file_extension": ".py",
   "mimetype": "text/x-python",
   "name": "python",
   "nbconvert_exporter": "python",
   "pygments_lexer": "ipython3",
   "version": "3.12.4"
  }
 },
 "nbformat": 4,
 "nbformat_minor": 2
}
