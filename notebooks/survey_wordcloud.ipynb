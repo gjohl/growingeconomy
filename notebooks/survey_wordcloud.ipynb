{
 "cells": [
  {
   "cell_type": "markdown",
   "metadata": {},
   "source": [
    "# Qualitative Survey Data\n",
    "\n",
    "Explore the qualitative survey data set and produce a wordcloud."
   ]
  },
  {
   "cell_type": "code",
   "execution_count": 1,
   "metadata": {},
   "outputs": [],
   "source": [
    "from pathlib import Path\n",
    "\n",
    "import matplotlib.pyplot as plt\n",
    "import numpy as np\n",
    "import pandas as pd\n",
    "from PIL import Image\n",
    "from wordcloud import WordCloud, STOPWORDS, ImageColorGenerator"
   ]
  },
  {
   "cell_type": "markdown",
   "metadata": {},
   "source": [
    "## 1. Load the survey data\n",
    "\n",
    "Load data from the provided CSV file."
   ]
  },
  {
   "cell_type": "code",
   "execution_count": 2,
   "metadata": {},
   "outputs": [
    {
     "data": {
      "text/html": [
       "<div>\n",
       "<style scoped>\n",
       "    .dataframe tbody tr th:only-of-type {\n",
       "        vertical-align: middle;\n",
       "    }\n",
       "\n",
       "    .dataframe tbody tr th {\n",
       "        vertical-align: top;\n",
       "    }\n",
       "\n",
       "    .dataframe thead th {\n",
       "        text-align: right;\n",
       "    }\n",
       "</style>\n",
       "<table border=\"1\" class=\"dataframe\">\n",
       "  <thead>\n",
       "    <tr style=\"text-align: right;\">\n",
       "      <th></th>\n",
       "      <th>Participant ID</th>\n",
       "      <th>Employment Status</th>\n",
       "      <th>UK Region</th>\n",
       "      <th>Response</th>\n",
       "    </tr>\n",
       "  </thead>\n",
       "  <tbody>\n",
       "    <tr>\n",
       "      <th>0</th>\n",
       "      <td>P001</td>\n",
       "      <td>Unemployed</td>\n",
       "      <td>Scotland</td>\n",
       "      <td>The government should focus on providing more ...</td>\n",
       "    </tr>\n",
       "    <tr>\n",
       "      <th>1</th>\n",
       "      <td>P002</td>\n",
       "      <td>Employed</td>\n",
       "      <td>North West</td>\n",
       "      <td>I believe the government should create more in...</td>\n",
       "    </tr>\n",
       "    <tr>\n",
       "      <th>2</th>\n",
       "      <td>P003</td>\n",
       "      <td>Self-employed</td>\n",
       "      <td>London</td>\n",
       "      <td>The government needs to address the root cause...</td>\n",
       "    </tr>\n",
       "    <tr>\n",
       "      <th>3</th>\n",
       "      <td>P004</td>\n",
       "      <td>Unemployed</td>\n",
       "      <td>Wales</td>\n",
       "      <td>The government should increase unemployment be...</td>\n",
       "    </tr>\n",
       "    <tr>\n",
       "      <th>4</th>\n",
       "      <td>P005</td>\n",
       "      <td>Employed</td>\n",
       "      <td>South East</td>\n",
       "      <td>I think the government is already doing too mu...</td>\n",
       "    </tr>\n",
       "    <tr>\n",
       "      <th>...</th>\n",
       "      <td>...</td>\n",
       "      <td>...</td>\n",
       "      <td>...</td>\n",
       "      <td>...</td>\n",
       "    </tr>\n",
       "    <tr>\n",
       "      <th>105</th>\n",
       "      <td>P106</td>\n",
       "      <td>Employed</td>\n",
       "      <td>East of England</td>\n",
       "      <td>I think the government should focus on promoti...</td>\n",
       "    </tr>\n",
       "    <tr>\n",
       "      <th>106</th>\n",
       "      <td>P107</td>\n",
       "      <td>Unemployed</td>\n",
       "      <td>West Midlands</td>\n",
       "      <td>The government needs to improve support for pe...</td>\n",
       "    </tr>\n",
       "    <tr>\n",
       "      <th>107</th>\n",
       "      <td>P108</td>\n",
       "      <td>Self-employed</td>\n",
       "      <td>North East</td>\n",
       "      <td>The government should focus on supporting the ...</td>\n",
       "    </tr>\n",
       "    <tr>\n",
       "      <th>108</th>\n",
       "      <td>P109</td>\n",
       "      <td>Unemployed</td>\n",
       "      <td>Scotland</td>\n",
       "      <td>The government should provide more support for...</td>\n",
       "    </tr>\n",
       "    <tr>\n",
       "      <th>109</th>\n",
       "      <td>P110</td>\n",
       "      <td>Employed</td>\n",
       "      <td>London</td>\n",
       "      <td>I believe the government should implement stri...</td>\n",
       "    </tr>\n",
       "  </tbody>\n",
       "</table>\n",
       "<p>110 rows × 4 columns</p>\n",
       "</div>"
      ],
      "text/plain": [
       "    Participant ID Employment Status        UK Region  \\\n",
       "0             P001        Unemployed         Scotland   \n",
       "1             P002          Employed       North West   \n",
       "2             P003     Self-employed           London   \n",
       "3             P004        Unemployed            Wales   \n",
       "4             P005          Employed       South East   \n",
       "..             ...               ...              ...   \n",
       "105           P106          Employed  East of England   \n",
       "106           P107        Unemployed    West Midlands   \n",
       "107           P108     Self-employed       North East   \n",
       "108           P109        Unemployed         Scotland   \n",
       "109           P110          Employed           London   \n",
       "\n",
       "                                              Response  \n",
       "0    The government should focus on providing more ...  \n",
       "1    I believe the government should create more in...  \n",
       "2    The government needs to address the root cause...  \n",
       "3    The government should increase unemployment be...  \n",
       "4    I think the government is already doing too mu...  \n",
       "..                                                 ...  \n",
       "105  I think the government should focus on promoti...  \n",
       "106  The government needs to improve support for pe...  \n",
       "107  The government should focus on supporting the ...  \n",
       "108  The government should provide more support for...  \n",
       "109  I believe the government should implement stri...  \n",
       "\n",
       "[110 rows x 4 columns]"
      ]
     },
     "execution_count": 2,
     "metadata": {},
     "output_type": "execute_result"
    }
   ],
   "source": [
    "DATA_DIR = Path.cwd().parent / 'data'\n",
    "FIGURE_OUTPUT_DIR = Path.cwd().parent / 'results'\n",
    "\n",
    "survey_df = pd.read_csv(DATA_DIR / 'qual_survey_responses.csv')\n",
    "survey_df"
   ]
  },
  {
   "cell_type": "markdown",
   "metadata": {},
   "source": [
    "## 2. Generate a word cloud of the responses\n",
    "\n",
    "Create a word cloud using the survey responses. This could make a nice visual for the presentation."
   ]
  },
  {
   "cell_type": "markdown",
   "metadata": {},
   "source": [
    "Create a mask in the shape of the Nesta logo for the word cloud to follow:"
   ]
  },
  {
   "cell_type": "code",
   "execution_count": 3,
   "metadata": {},
   "outputs": [
    {
     "data": {
      "text/plain": [
       "<matplotlib.image.AxesImage at 0x129113590>"
      ]
     },
     "execution_count": 3,
     "metadata": {},
     "output_type": "execute_result"
    },
    {
     "data": {
      "image/png": "[encoded data removed]",
      "text/plain": [
       "<Figure size 640x480 with 1 Axes>"
      ]
     },
     "metadata": {},
     "output_type": "display_data"
    }
   ],
   "source": [
    "LOGO_FPATH = Path.cwd().parent / 'assets' / 'Nesta_Logo.png'\n",
    "\n",
    "nesta_mask = np.array(Image.open(LOGO_FPATH))\n",
    "nesta_mask = nesta_mask.sum(axis=2) / 3\n",
    "\n",
    "plt.imshow(nesta_mask, cmap='Greys')"
   ]
  },
  {
   "cell_type": "markdown",
   "metadata": {},
   "source": [
    "Remove additional stop words which may just be restating the original question: \"what do you think the government should be doing to address economic inactivity (unemployment)”\n",
    "\n",
    "Join this with the default set of stopwords which catches the typical cases."
   ]
  },
  {
   "cell_type": "code",
   "execution_count": 4,
   "metadata": {},
   "outputs": [],
   "source": [
    "survey_stopwords = {\n",
    "    'government',\n",
    "    'address',\n",
    "    'economic',\n",
    "    'inactivity',\n",
    "    'additionally',\n",
    "    'provide',\n",
    "    'employment',\n",
    "    'unemployment',\n",
    "}\n",
    "\n",
    "all_stopwords = survey_stopwords | STOPWORDS"
   ]
  },
  {
   "cell_type": "markdown",
   "metadata": {},
   "source": [
    "Generate a word cloud from the concatenated responses."
   ]
  },
  {
   "cell_type": "code",
   "execution_count": 5,
   "metadata": {},
   "outputs": [
    {
     "name": "stderr",
     "output_type": "stream",
     "text": [
      "/Users/gurpreetjohl/miniconda3/envs/growingeconomy/lib/python3.12/site-packages/wordcloud/wordcloud.py:1003: UserWarning: mask image should be unsigned byte between 0 and 255. Got a float array\n",
      "  warnings.warn(\"mask image should be unsigned byte between 0\"\n"
     ]
    }
   ],
   "source": [
    "# Concatenated survey responses\n",
    "joined_text = ' \\n '.join(survey_df['Response'].values).lower()\n",
    "\n",
    "# Create wordcloud\n",
    "wordcloud = (WordCloud(stopwords=all_stopwords,\n",
    "                       max_words=150,\n",
    "                       mask=nesta_mask,\n",
    "                       background_color=None,  # For transparent background\n",
    "                       mode='RGBA',  # For transparent background\n",
    "                       contour_color='black', \n",
    "                       colormap='bone',  # 'BuPu_r',\n",
    "                       width=1600, \n",
    "                       height=1000)\n",
    "             .generate(joined_text))"
   ]
  },
  {
   "cell_type": "markdown",
   "metadata": {},
   "source": [
    "# Display the generated image"
   ]
  },
  {
   "cell_type": "code",
   "execution_count": 6,
   "metadata": {},
   "outputs": [
    {
     "data": {
      "image/png": "[encoded data removed]",
      "text/plain": [
       "<Figure size 640x480 with 1 Axes>"
      ]
     },
     "metadata": {},
     "output_type": "display_data"
    }
   ],
   "source": [
    "plt.imshow(wordcloud, interpolation='bilinear')\n",
    "plt.axis(\"off\")\n",
    "plt.show()"
   ]
  },
  {
   "cell_type": "markdown",
   "metadata": {},
   "source": [
    "Save the wordcloud figure"
   ]
  },
  {
   "cell_type": "code",
   "execution_count": 7,
   "metadata": {},
   "outputs": [
    {
     "data": {
      "text/plain": [
       "<wordcloud.wordcloud.WordCloud at 0x12ad3cfe0>"
      ]
     },
     "execution_count": 7,
     "metadata": {},
     "output_type": "execute_result"
    }
   ],
   "source": [
    "wordcloud.to_file(FIGURE_OUTPUT_DIR / 'survey_wordcloud.png')"
   ]
  },
  {
   "cell_type": "code",
   "execution_count": null,
   "metadata": {},
   "outputs": [],
   "source": []
  }
 ],
 "metadata": {
  "kernelspec": {
   "display_name": "growingeconomy",
   "language": "python",
   "name": "python3"
  },
  "language_info": {
   "codemirror_mode": {
    "name": "ipython",
    "version": 3
   },
   "file_extension": ".py",
   "mimetype": "text/x-python",
   "name": "python",
   "nbconvert_exporter": "python",
   "pygments_lexer": "ipython3",
   "version": "3.12.4"
  }
 },
 "nbformat": 4,
 "nbformat_minor": 2
}
